{
  "nbformat": 4,
  "nbformat_minor": 0,
  "metadata": {
    "colab": {
      "provenance": [],
      "authorship_tag": "ABX9TyOOL24D9941qfs+ssTEraSk",
      "include_colab_link": true
    },
    "kernelspec": {
      "name": "python3",
      "display_name": "Python 3"
    },
    "language_info": {
      "name": "python"
    }
  },
  "cells": [
    {
      "cell_type": "markdown",
      "metadata": {
        "id": "view-in-github",
        "colab_type": "text"
      },
      "source": [
        "<a href=\"https://colab.research.google.com/github/Amarantine-xiv/Another-FF14-Combat-Sim/blob/main/CoreSimulator.ipynb\" target=\"_parent\"><img src=\"https://colab.research.google.com/assets/colab-badge.svg\" alt=\"Open In Colab\"/></a>"
      ]
    },
    {
      "cell_type": "markdown",
      "source": [
        "Copyright 2023 A. Falena\n",
        "\n",
        "Licensed under the Apache License, Version 2.0 (the \"License\");\n",
        "you may not use this file except in compliance with the License.\n",
        "You may obtain a copy of the License at\n",
        "\n",
        "    https://www.apache.org/licenses/LICENSE-2.0\n",
        "\n",
        "Unless required by applicable law or agreed to in writing, software\n",
        "distributed under the License is distributed on an \"AS IS\" BASIS,\n",
        "WITHOUT WARRANTIES OR CONDITIONS OF ANY KIND, either express or implied.\n",
        "See the License for the specific language governing permissions and\n",
        "limitations under the License."
      ],
      "metadata": {
        "id": "d96lbpQzAb-8"
      }
    },
    {
      "cell_type": "code",
      "source": [
        "VERSION=0.05"
      ],
      "metadata": {
        "id": "qIPBusLz9x-y"
      },
      "execution_count": 1,
      "outputs": []
    },
    {
      "cell_type": "code",
      "source": [
        "#@title Imports\n",
        "\n",
        "import numpy as np\n",
        "import matplotlib.pyplot as plt\n",
        "import time\n",
        "import copy\n",
        "from dataclasses import dataclass\n",
        "import heapq\n",
        "from enum import Enum"
      ],
      "metadata": {
        "id": "hkVvtYjeAjnF"
      },
      "execution_count": 2,
      "outputs": []
    },
    {
      "cell_type": "code",
      "source": [
        "#@title Game Constants\n",
        "@dataclass(frozen=True)\n",
        "class GameConsts:\n",
        "  GCD_RECAST_TIME: float = 2500\n",
        "  DAMAGE_SNAPSHOT_TIME_BEFORE_CAST_FINISHES = 500\n",
        "  # level mods from akhmorning\n",
        "  LEVEL_DIVS = {90: 1900}\n",
        "  LEVEL_SUBS= {90: 400}\n",
        "  SPEED_COEFFICIENT=130"
      ],
      "metadata": {
        "cellView": "form",
        "id": "Z_xd2VpyaDgu"
      },
      "execution_count": 3,
      "outputs": []
    },
    {
      "cell_type": "code",
      "source": [
        "#@title StatFns, Stats\n",
        "class StatFns:\n",
        "  @staticmethod\n",
        "  def get_time_using_speed_stat(t_ms, speed_stat, level=90):\n",
        "    level_sub = GameConsts.LEVEL_SUBS[level]\n",
        "    level_div = GameConsts.LEVEL_DIVS[level]\n",
        "\n",
        "    tmp = np.ceil(GameConsts.SPEED_COEFFICIENT*(level_sub-speed_stat)/level_div)\n",
        "    tmp2 = t_ms*(1000+tmp)/10000\n",
        "    tmp3 = np.floor(tmp2)/100\n",
        "    return int(1000*tmp3)\n",
        "\n",
        "@dataclass(frozen=True)\n",
        "class Stats():\n",
        "  wd: float\n",
        "  weapon_delay: float\n",
        "  main_stat: float\n",
        "  det_stat: float\n",
        "  dh_stat: float\n",
        "  crit_stat: float\n",
        "  speed_stat: float\n",
        "  job_class: str\n",
        "  tenacity: float = None\n",
        "  num_roles_in_party: float = 5\n",
        "  healer_or_caster_strength: float= None\n",
        "  def __post_init__(self):\n",
        "    pass\n",
        "     #object.__setattr__(self, 'job_mod', JobClassFns.JOB_MODS[self.job_class])\n",
        "     #object.__setattr__(self, 'trait_dmg_mult', JobClassFns.compute_trait_dmg_mult(self.job_class))"
      ],
      "metadata": {
        "cellView": "form",
        "id": "QADvqHmyhcRE"
      },
      "execution_count": 4,
      "outputs": []
    },
    {
      "cell_type": "code",
      "source": [
        "#@title Test utils\n",
        "\n",
        "class TestClass:\n",
        "  def __init__(self):\n",
        "    self.test_fns = []\n",
        "\n",
        "  def is_a_test(f):\n",
        "    f.__is_a_test__ = True\n",
        "    return f\n",
        "\n",
        "  def _get_test_methods(self):\n",
        "    test_methods = []\n",
        "    for fn_name in dir(self):\n",
        "      fn = getattr(self, fn_name)\n",
        "      if getattr(fn, '__is_a_test__', False):\n",
        "        test_methods.append(fn)\n",
        "    return test_methods\n",
        "\n",
        "  def _print_result(self, passing, failing):\n",
        "    print('Testing for {}. {}/{} tests passed.'.format(self.__class__.__name__, len(passing), len(passing)+len(failing)))\n",
        "    if len(failing) > 0:\n",
        "      print('Failing tests:')\n",
        "      for test_info in failing:\n",
        "        print(\"{}: {}\\n\".format(test_info[0], test_info[1]))\n",
        "    print('Passing tests:')\n",
        "    for test_name in passing:\n",
        "      print(\"{}\".format(test_name))\n",
        "\n",
        "  def run_single(self, test_name):\n",
        "    for test_fn in self._get_test_methods():\n",
        "      if test_name == test_fn.__name__:\n",
        "        test_passed, err_msg = test_fn()\n",
        "        if test_passed:\n",
        "          print('{} passed!'.format(test_name))\n",
        "          return\n",
        "        else:\n",
        "          print('{} failed: {}'.format(test_name, err_msg))\n",
        "          return\n",
        "    print('No test found with name {}'.format(test_name))\n",
        "\n",
        "  def run_all(self):\n",
        "    passing = []\n",
        "    failing = []\n",
        "    for test_fn in self._get_test_methods():\n",
        "      test_name = test_fn.__name__\n",
        "      test_passed, err_msg = test_fn()\n",
        "      if (test_passed):\n",
        "        passing.append(test_name)\n",
        "      else:\n",
        "        failing.append((test_name, err_msg))\n",
        "    self._print_result(passing, failing)\n",
        "    print(\"================\")\n"
      ],
      "metadata": {
        "cellView": "form",
        "id": "x6pBIGHXAHab"
      },
      "execution_count": 5,
      "outputs": []
    },
    {
      "cell_type": "code",
      "source": [
        "#@title TimingSpec\n",
        "\n",
        "@dataclass(frozen=True)\n",
        "class TimingSpec:\n",
        "  base_cast_time: int\n",
        "  is_GCD: bool\n",
        "  gcd_base_recast_time: int = None #after you use this skill, how long until you can use a gcd?\n",
        "  base_recast_time: int = 0 # the base \"cooldown\" of the skill- when can you use it next?\n",
        "  animation_lock: int = 65 #does not take into account ping\n",
        "  application_delay: int = 0 #how long after the cast finishes does the skill get applied\n",
        "\n",
        "  def __error_check(self):\n",
        "    #This is such a common error, that we need to defend against it.\n",
        "    assert isinstance(self.base_cast_time, int), \"Base cast time should be an int in ms. Did you put it in seconds?\"\n",
        "    assert isinstance(self.application_delay, int), \"Application delay should be an int in ms. Did you put it in seconds?\"\n",
        "\n",
        "  def __post_init__(self):\n",
        "    if self.gcd_base_recast_time is None:\n",
        "      if self.is_GCD:\n",
        "        # assume a default of 2500ms recast time for all gcds, unless otherwise stated\n",
        "        object.__setattr__(self, 'gcd_base_recast_time', GameConsts.GCD_RECAST_TIME)\n",
        "      else:\n",
        "        # By default, non-gcds don't affect gcd_base_recast_time. If this is not\n",
        "        # true for this skill, then set gcd_base_recast_time explicitly.\n",
        "        object.__setattr__(self, 'gcd_base_recast_time', 0)\n",
        "    self.__error_check()\n",
        "\n",
        "  def __str__(self):\n",
        "    res = \"  Cast time: {}\\n  is_GCD: {}\".format(self.cast_time, self.is_GCD)\n",
        "    return res"
      ],
      "metadata": {
        "id": "YwlGXCRNSo2G"
      },
      "execution_count": 6,
      "outputs": []
    },
    {
      "cell_type": "code",
      "source": [
        "#@title Skill, SkillLibrary\n",
        "\n",
        "@dataclass(frozen=True)\n",
        "class Skill:\n",
        "  # Note: All fields must be either 1) a primitive, 2) a class with the dataclass\n",
        "  # decorator, or 3) defined with an appropriate __eq__ function.\n",
        "  name: str\n",
        "  timing_spec: TimingSpec = None\n",
        "\n",
        "  def __str__(self):\n",
        "    res = \"---Skill name: {}---\\n\".format(self.name)\n",
        "    res += \"TimingSpec:\\n{}\\n\".format(str(self.timing_spec))\n",
        "    return res\n",
        "\n",
        "class SkillLibrary:\n",
        "  def __init__(self):\n",
        "    self._skills = {}\n",
        "\n",
        "  def get_skill(self, skill_name, job_class):\n",
        "    return self._skills[job_class][skill_name]\n",
        "\n",
        "  def add_job_class(self, job_name):\n",
        "    self._skills[job_name] = {}\n",
        "\n",
        "  def add_skill(self, skill, job_class):\n",
        "    skill_name = skill.name\n",
        "    if skill_name in self._skills[job_class]:\n",
        "      raise RuntimeError('Duplicate skill being added to the skill library (this is probably a naming error). Job: {}, Skill name: {}'.format(job_class, skill_name))\n",
        "    self._skills[job_class][skill.name] = skill\n",
        "\n",
        "  def print_skills(self):\n",
        "    for job_name in self._skills:\n",
        "      for skill_name in self._skills[job_name]:\n",
        "        print(\"Job name: {}, Skill name: {}\".format(job_name, skill_name))"
      ],
      "metadata": {
        "id": "kyh7UqiiKvlr"
      },
      "execution_count": 7,
      "outputs": []
    },
    {
      "cell_type": "code",
      "source": [
        "#@title SkillLibrary population\n",
        "all_skills = SkillLibrary()\n",
        "all_skills.add_job_class('test_job')\n",
        "\n",
        "OGCD_INSTANT = TimingSpec(base_cast_time=0, is_GCD=False)\n",
        "GCD_2500 = TimingSpec(base_cast_time=2500, is_GCD=True)\n",
        "\n",
        "test_gcd = Skill(name='test_gcd', timing_spec = GCD_2500)\n",
        "test_ogcd = Skill(name='test_ogcd', timing_spec = OGCD_INSTANT)\n",
        "all_skills.add_skill(test_gcd, 'test_job')\n",
        "all_skills.add_skill(test_ogcd, 'test_job')"
      ],
      "metadata": {
        "id": "89o_e2o-GPM7"
      },
      "execution_count": 8,
      "outputs": []
    },
    {
      "cell_type": "code",
      "source": [
        "#@title RotationBuilder\n",
        "\n",
        "class RotationBuilder:\n",
        "\n",
        "  \"\"\" A utility class used to turn 1) a series of button (skills) pressed and optionally the specific time they were pressed, and 2) proc application times into a series of damage instances and applicable buffs/debuffs.\"\"\"\n",
        "  def __init__(self, stats, skill_library):\n",
        "    self._stats = stats\n",
        "    self._skill_library = skill_library\n",
        "    self._q = []\n",
        "    self._q_timed = []\n",
        "\n",
        "  @staticmethod\n",
        "  def _print_q(q):\n",
        "    q.sort(key=lambda x: x[0])\n",
        "    for (time, skill) in q:\n",
        "      print('{}: {}'.format(time, skill.name))\n",
        "\n",
        "  def add_to_rotation(self, skill_name, t=None):\n",
        "    \"\"\"Adds a skill to be used. All skills are considered to be used sequential at the first available opportunity, unless a time t is specified.\"\"\"\n",
        "    \"\"\" Time is assumed to be in seconds\"\"\"\n",
        "    skill = self._skill_library.get_skill(skill_name, self._stats.job_class)\n",
        "    if t is None:\n",
        "      heapq.heappush(self._q, skill)\n",
        "    else:\n",
        "      heapq.heappush(self._q_timed, (int(1000*t), skill))\n",
        "\n",
        "  def __get_application_time(self, t, skill):\n",
        "    return t + skill.timing_spec.cast_time + skill.timing_spec.application_delay\n",
        "\n",
        "  # Result: (snapshot time, application time, skill, snapshots_buffs, snapshots_debuffs), indicating\n",
        "  # whether buffs and debuffs snapshot at the given given time for that skill\n",
        "  # snapshot_time.\n",
        "  def _get_skill_timing(self):\n",
        "    q_timed_snapshot = []\n",
        "    q = copy.deepcopy(self._q_timed)\n",
        "    while len(q) > 0:\n",
        "      (t, skill) = heapq.heappop(q)\n",
        "      cast_time = StatFns.get_time_using_speed_stat(skill.timing_spec.base_cast_time, self._stats.speed_stat)\n",
        "      snapshot_time = t + max(0, cast_time-500)\n",
        "      application_time = t + cast_time + skill.timing_spec.application_delay\n",
        "      heapq.heappush(q_timed_snapshot, (snapshot_time, application_time, skill, True, True))\n",
        "    return q_timed_snapshot\n",
        "\n",
        "  def print_sequential_rotation(self):\n",
        "    q = copy.deepcopy(self._q_timed)\n",
        "    RotationBuilder._print_q(q)"
      ],
      "metadata": {
        "id": "ESrYU2sgOEex"
      },
      "execution_count": 9,
      "outputs": []
    },
    {
      "cell_type": "code",
      "source": [
        "class RotationBuilderUtilTest(TestClass):\n",
        "  def __setup_test_skill_library(self):\n",
        "    self._all_skills = SkillLibrary()\n",
        "    self._all_skills.add_job_class(self.TEST_JOB_NAME)\n",
        "\n",
        "    gcd_2500 = TimingSpec(base_cast_time=2500, is_GCD=True)\n",
        "    gcd_2500_app_delay = TimingSpec(base_cast_time=2500, application_delay=100, is_GCD=True)\n",
        "    ogcd_instant = TimingSpec(base_cast_time=0, is_GCD=False)\n",
        "\n",
        "    test_gcd = Skill(name=self.TEST_GCD_NAME, timing_spec = gcd_2500)\n",
        "    test_gcd_app_delay = Skill(name=self.TEST_GCD_APP_DELAY_NAME, timing_spec = gcd_2500_app_delay)\n",
        "    test_ogcd = Skill(name=self.TEST_OGCD_NAME, timing_spec = ogcd_instant)\n",
        "\n",
        "    self._all_skills.add_skill(test_gcd, self.TEST_JOB_NAME)\n",
        "    self._all_skills.add_skill(test_ogcd, self.TEST_JOB_NAME)\n",
        "    self._all_skills.add_skill(test_gcd_app_delay, self.TEST_JOB_NAME)\n",
        "\n",
        "  def __init__(self):\n",
        "    self.TEST_JOB_NAME = 'test_job'\n",
        "    self.TEST_GCD_NAME = 'test_gcd'\n",
        "    self.TEST_OGCD_NAME = 'test_ogcd'\n",
        "    self.TEST_GCD_APP_DELAY_NAME = 'test_gcd_app_delay'\n",
        "    self.__setup_test_skill_library()\n",
        "\n",
        "  @TestClass.is_a_test\n",
        "  def skill_timing_test_no_buffs_no_dot(self):\n",
        "    test_passed = True\n",
        "    err_msg=\"\"\n",
        "\n",
        "    # For a 2500 ms gcd, this spell speed should result in a 2440 sm (2.44s) GCD.\n",
        "    stats = Stats(wd=126, weapon_delay=3.44, main_stat=2945, det_stat=1620, crit_stat=2377, dh_stat=1048, speed_stat=708, job_class = self.TEST_JOB_NAME)\n",
        "    rb = RotationBuilder(stats, self._all_skills)\n",
        "    rb.add_to_rotation(self.TEST_GCD_NAME, 0)\n",
        "    rb.add_to_rotation(self.TEST_GCD_NAME, 3.5)\n",
        "    rb.add_to_rotation(self.TEST_OGCD_NAME, 2.4)\n",
        "    rb.add_to_rotation(self.TEST_GCD_APP_DELAY_NAME, 4.0)\n",
        "    expected = [(1940, 2440, self._all_skills.get_skill(self.TEST_GCD_NAME, self.TEST_JOB_NAME), True, True),\n",
        "                (2400, 2400, self._all_skills.get_skill(self.TEST_OGCD_NAME, self.TEST_JOB_NAME), True, True),\n",
        "                (3500+1940, 3500+2440, self._all_skills.get_skill(self.TEST_GCD_NAME, self.TEST_JOB_NAME), True, True),\n",
        "                (4000+1940, 4000+2440+100, self._all_skills.get_skill(self.TEST_GCD_APP_DELAY_NAME, self.TEST_JOB_NAME), True, True)]\n",
        "\n",
        "    result = rb._get_skill_timing()\n",
        "    if len(expected) != len(result):\n",
        "      test_passed = False\n",
        "      err_msg += \"Expected 3 skills returned. Instead got {}. \".format(len(result))\n",
        "    for i in range(0, len(expected)):\n",
        "      if expected[i] != result[i]:\n",
        "        test_passed = False\n",
        "        err_msg += \"Position {} was not the same.\\n Expected: {}\\n Actual: {}\".format(i, expected[i], result[i])\n",
        "\n",
        "    return test_passed, err_msg"
      ],
      "metadata": {
        "id": "Ao_7-HK8B1JL"
      },
      "execution_count": 10,
      "outputs": []
    },
    {
      "cell_type": "code",
      "source": [
        "#@title TestClasses\n",
        "\n",
        "class TimingSpecTest(TestClass):\n",
        "  @TestClass.is_a_test\n",
        "  def gcd_override_gcd_test(self):\n",
        "    test_passed = True\n",
        "    err_msg=\"\"\n",
        "    cast_spec = TimingSpec(base_cast_time=2000, is_GCD=True)\n",
        "    if cast_spec.gcd_base_recast_time != 2500:\n",
        "      err_msg = \"Recast time was expected to be 2500, but it was {}.\".format(cast_spec.gcd_base_recast_time)\n",
        "      test_passed = False\n",
        "    return test_passed, err_msg\n",
        "\n",
        "  @TestClass.is_a_test\n",
        "  def gcd_override_ogcd_test(self):\n",
        "    test_passed = True\n",
        "    err_msg=\"\"\n",
        "    cast_spec = TimingSpec(base_cast_time=2000, is_GCD=False)\n",
        "    if cast_spec.gcd_base_recast_time != 0:\n",
        "      err_msg = \"Recast time was expected to be 0, but it was {}.\".format(cast_spec.gcd_base_recast_time)\n",
        "      test_passed = False\n",
        "    return test_passed, err_msg\n",
        "\n",
        "  @TestClass.is_a_test\n",
        "  def gcd_override_set_recast_time(self):\n",
        "    test_passed = True\n",
        "    err_msg=\"\"\n",
        "    cast_spec = TimingSpec(base_cast_time=2000, gcd_base_recast_time=1500, base_recast_time=60000, is_GCD=False)\n",
        "    if cast_spec.gcd_base_recast_time != 1500:\n",
        "      err_msg = \"Recast time was expected to be 1500, but it was {}.\".format(cast_spec.gcd_base_recast_time)\n",
        "      test_passed = False\n",
        "    return test_passed, err_msg\n",
        "\n",
        "class StatFnsTest(TestClass):\n",
        "  @TestClass.is_a_test\n",
        "  def get_time_using_speed_stat_test(self):\n",
        "    test_passed = True\n",
        "    err_msg=\"\"\n",
        "\n",
        "    gcd_inputs= {2500: ([1408, 1409, 1410], [2330, 2320, 2320]),\n",
        "                  3500: ([999, 1000, 1001], [3360, 3350, 3350])}\n",
        "\n",
        "    for gcd_time, inputs_and_outputs in gcd_inputs.items():\n",
        "      speed_stat = inputs_and_outputs[0]\n",
        "      expected = inputs_and_outputs[1]\n",
        "      for i in range(0, len(speed_stat)):\n",
        "          gcd_actual = StatFns.get_time_using_speed_stat(gcd_time, speed_stat[i])\n",
        "          gcd_expected = expected[i]\n",
        "          if gcd_actual != gcd_expected:\n",
        "            err_msg += \"gcd_time expected: {}. Actual: {}. For 3.5 gcd. \".format(gcd_expected, gcd_actual)\n",
        "            test_passed = False\n",
        "\n",
        "    return test_passed, err_msg"
      ],
      "metadata": {
        "id": "LHH5zniJlARZ"
      },
      "execution_count": 11,
      "outputs": []
    },
    {
      "cell_type": "code",
      "source": [
        "TimingSpecTest().run_all()\n",
        "StatFnsTest().run_all()\n",
        "RotationBuilderUtilTest().run_all()"
      ],
      "metadata": {
        "colab": {
          "base_uri": "https://localhost:8080/"
        },
        "id": "wRGS1Z8Pf7NT",
        "outputId": "5a3c2180-7693-45aa-de21-5e27e077193a"
      },
      "execution_count": 12,
      "outputs": [
        {
          "output_type": "stream",
          "name": "stdout",
          "text": [
            "Testing for TimingSpecTest. 3/3 tests passed.\n",
            "Passing tests:\n",
            "gcd_override_gcd_test\n",
            "gcd_override_ogcd_test\n",
            "gcd_override_set_recast_time\n",
            "================\n",
            "Testing for StatFnsTest. 1/1 tests passed.\n",
            "Passing tests:\n",
            "get_time_using_speed_stat_test\n",
            "================\n",
            "Testing for RotationBuilderUtilTest. 1/1 tests passed.\n",
            "Passing tests:\n",
            "skill_timing_test_no_buffs_no_dot\n",
            "================\n"
          ]
        }
      ]
    }
  ]
}