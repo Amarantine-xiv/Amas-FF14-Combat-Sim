{
  "nbformat": 4,
  "nbformat_minor": 0,
  "metadata": {
    "colab": {
      "provenance": [],
      "authorship_tag": "ABX9TyNkTCAQRf710+uPxvivDurN",
      "include_colab_link": true
    },
    "kernelspec": {
      "name": "python3",
      "display_name": "Python 3"
    },
    "language_info": {
      "name": "python"
    }
  },
  "cells": [
    {
      "cell_type": "markdown",
      "metadata": {
        "id": "view-in-github",
        "colab_type": "text"
      },
      "source": [
        "<a href=\"https://colab.research.google.com/github/Amarantine-xiv/Another-FF14-Combat-Sim/blob/main/CoreSimulator.ipynb\" target=\"_parent\"><img src=\"https://colab.research.google.com/assets/colab-badge.svg\" alt=\"Open In Colab\"/></a>"
      ]
    },
    {
      "cell_type": "markdown",
      "source": [
        "Copyright 2023 A. Falena\n",
        "\n",
        "Licensed under the Apache License, Version 2.0 (the \"License\");\n",
        "you may not use this file except in compliance with the License.\n",
        "You may obtain a copy of the License at\n",
        "\n",
        "    https://www.apache.org/licenses/LICENSE-2.0\n",
        "\n",
        "Unless required by applicable law or agreed to in writing, software\n",
        "distributed under the License is distributed on an \"AS IS\" BASIS,\n",
        "WITHOUT WARRANTIES OR CONDITIONS OF ANY KIND, either express or implied.\n",
        "See the License for the specific language governing permissions and\n",
        "limitations under the License."
      ],
      "metadata": {
        "id": "d96lbpQzAb-8"
      }
    },
    {
      "cell_type": "code",
      "source": [
        "VERSION=0.04"
      ],
      "metadata": {
        "id": "qIPBusLz9x-y"
      },
      "execution_count": 1,
      "outputs": []
    },
    {
      "cell_type": "code",
      "source": [
        "#@title Imports\n",
        "\n",
        "import numpy as np\n",
        "import matplotlib.pyplot as plt\n",
        "import time\n",
        "import copy\n",
        "from dataclasses import dataclass\n",
        "import heapq\n",
        "from enum import Enum"
      ],
      "metadata": {
        "id": "hkVvtYjeAjnF"
      },
      "execution_count": 2,
      "outputs": []
    },
    {
      "cell_type": "code",
      "source": [
        "#@title Game Constants\n",
        "@dataclass(frozen=True)\n",
        "class GameConsts:\n",
        "  GCD_RECAST_TIME: float = 2500\n",
        "  DAMAGE_SNAPSHOT_TIME_BEFORE_CAST_FINISHES = 500\n",
        "  # level mods from akhmorning\n",
        "  LEVEL_DIVS = {90: 1900}\n",
        "  LEVEL_SUBS= {90: 400}\n",
        "  SPEED_COEFFICIENT=130"
      ],
      "metadata": {
        "id": "Z_xd2VpyaDgu"
      },
      "execution_count": 3,
      "outputs": []
    },
    {
      "cell_type": "code",
      "source": [
        "#@title StatFns\n",
        "class StatFns:\n",
        "  @staticmethod\n",
        "  def get_time_using_speed_stat(t_ms, speed_stat, level=90):\n",
        "    level_sub = GameConsts.LEVEL_SUBS[level]\n",
        "    level_div = GameConsts.LEVEL_DIVS[level]\n",
        "\n",
        "    tmp = np.ceil(GameConsts.SPEED_COEFFICIENT*(level_sub-speed_stat)/level_div)\n",
        "    tmp2 = t_ms*(1000+tmp)/10000\n",
        "    tmp3 = np.floor(tmp2)/100\n",
        "    return int(1000*tmp3)"
      ],
      "metadata": {
        "id": "QADvqHmyhcRE"
      },
      "execution_count": 4,
      "outputs": []
    },
    {
      "cell_type": "code",
      "source": [
        "#@title CastSpec\n",
        "\n",
        "@dataclass(frozen=True)\n",
        "class CastSpec:\n",
        "  cast_time: int\n",
        "  is_GCD: bool\n",
        "  gcd_base_recast_time: int = None #after you use this skill, how long until you can use a gcd?\n",
        "  base_recast_time: int = 0 # the base \"cooldown\" of the skill- when can you use it next?\n",
        "  animation_lock: int = 65 #does not take into account ping\n",
        "\n",
        "  def __post_init__(self):\n",
        "    if self.gcd_base_recast_time is None:\n",
        "      if self.is_GCD:\n",
        "        # assume a default of 2500ms recast time for all gcds, unless otherwise stated\n",
        "        object.__setattr__(self, 'gcd_base_recast_time', GameConsts.GCD_RECAST_TIME)\n",
        "      else:\n",
        "        # By default, non-gcds don't affect gcd_base_recast_time. If this is not\n",
        "        # true for this skill, then set gcd_base_recast_time explicitly.\n",
        "        object.__setattr__(self, 'gcd_base_recast_time', 0)\n",
        "\n",
        "  def __str__(self):\n",
        "    res = \"Cast time: {}\".format(self.cast_time)\n",
        "    return res"
      ],
      "metadata": {
        "id": "YwlGXCRNSo2G"
      },
      "execution_count": 5,
      "outputs": []
    },
    {
      "cell_type": "code",
      "source": [
        "#@title RotationBuilderUtil\n",
        "\n",
        "class RotationBuilderUtil:\n",
        "  \"\"\" A utility class used to turn 1) a series of button (skills) pressed and optionally the specific time they were pressed, and 2) proc application times into a series of damage instances and applicable buffs/debuffs.\"\"\"\n",
        "  def __init__(self, stats):\n",
        "    self._stats = stats\n",
        "    self._q = []\n",
        "    self._q_timed = []\n",
        "\n",
        "  def add_skill(self, skill_name, t=None):\n",
        "    \"\"\"Adds a skill to be used. All skills are considered to be used sequential at the first available opportunity, unless a time t is specified.\"\"\"\n",
        "    if t is None:\n",
        "      heapq.heappush(self._q, skill_name)\n",
        "    else:\n",
        "      heapq.heappush(self._q_timed, skill_name)"
      ],
      "metadata": {
        "id": "hJ-TzG80A96n",
        "cellView": "form"
      },
      "execution_count": 6,
      "outputs": []
    },
    {
      "cell_type": "code",
      "source": [
        "#@title Skill, SkillLibrary\n",
        "\n",
        "class Skill:\n",
        "  def __init__(self, name):\n",
        "    self.name = name\n",
        "    self.cast_spec = None\n",
        "\n",
        "  def __str__(self):\n",
        "    return self.name\n",
        "\n",
        "class SkillLibrary:\n",
        "  def __init__(self):\n",
        "    self._skills = {}\n",
        "\n",
        "  def add_job_class(self, job_name):\n",
        "    self._skills[job_name] = {}\n",
        "\n",
        "  def add_skill(self, job_name, skill):\n",
        "    skill_name = skill.name\n",
        "    if skill_name in self._skills[job_name]:\n",
        "      raise RuntimeError('Duplicate skill being added to the skill library (this is probably a naming error). Job: {}, Skill name: {}'.format(job_name, skill_name))\n",
        "    self._skills[job_name][skill.name] = skill\n",
        "\n",
        "  def print_skills(self):\n",
        "    for job_name in self._skills:\n",
        "      for skill_name in self._skills[job_name]:\n",
        "        print(\"Job name: {}, Skill name: {}\".format(job_name, skill_name))"
      ],
      "metadata": {
        "id": "kyh7UqiiKvlr"
      },
      "execution_count": 7,
      "outputs": []
    },
    {
      "cell_type": "code",
      "source": [
        "#@title Test utils\n",
        "\n",
        "class TestClass:\n",
        "  def __init__(self):\n",
        "    self.test_fns = []\n",
        "\n",
        "  def is_a_test(f):\n",
        "    f.__is_a_test__ = True\n",
        "    return f\n",
        "\n",
        "  def _get_test_methods(self):\n",
        "    test_methods = []\n",
        "    for fn_name in dir(self):\n",
        "      fn = getattr(self, fn_name)\n",
        "      if getattr(fn, '__is_a_test__', False):\n",
        "        test_methods.append(fn)\n",
        "    return test_methods\n",
        "\n",
        "  def _print_result(self, passing, failing):\n",
        "    print('Testing for {}. {}/{} tests passed.'.format(self.__class__.__name__, len(passing), len(passing)+len(failing)))\n",
        "    if len(failing) > 0:\n",
        "      print('Failing tests:')\n",
        "      for test_info in failing:\n",
        "        print(\"{}: {}\\n\".format(test_info[0], test_info[1]))\n",
        "    print('Passing tests:')\n",
        "    for test_name in passing:\n",
        "      print(\"{}\".format(test_name))\n",
        "\n",
        "  def run_single(self, test_name):\n",
        "    for test_fn in self._get_test_methods():\n",
        "      if test_name == test_fn.__name__:\n",
        "        test_passed, err_msg = test_fn()\n",
        "        if test_passed:\n",
        "          print('{} passed!'.format(test_name))\n",
        "          return\n",
        "        else:\n",
        "          print('{} failed: {}'.format(test_name, err_msg))\n",
        "          return\n",
        "    print('No test found with name {}'.format(test_name))\n",
        "\n",
        "  def run_all(self):\n",
        "    passing = []\n",
        "    failing = []\n",
        "    for test_fn in self._get_test_methods():\n",
        "      test_name = test_fn.__name__\n",
        "      test_passed, err_msg = test_fn()\n",
        "      if (test_passed):\n",
        "        passing.append(test_name)\n",
        "      else:\n",
        "        failing.append((test_name, err_msg))\n",
        "    self._print_result(passing, failing)\n"
      ],
      "metadata": {
        "id": "89o_e2o-GPM7"
      },
      "execution_count": 8,
      "outputs": []
    },
    {
      "cell_type": "code",
      "source": [
        "class CastSpecTest(TestClass):\n",
        "  @TestClass.is_a_test\n",
        "  def gcd_override_gcd_test(self):\n",
        "    err_msg=\"\"\n",
        "    test_passed = True\n",
        "    cast_spec = CastSpec(cast_time=2000, is_GCD=True)\n",
        "    if cast_spec.gcd_base_recast_time != 2500:\n",
        "      err_msg = \"Recast time was expected to be 2500, but it was {}\".format(cast_spec.gcd_base_recast_time)\n",
        "      test_passed = False\n",
        "    return test_passed, err_msg\n",
        "\n",
        "  @TestClass.is_a_test\n",
        "  def gcd_override_ogcd_test(self):\n",
        "    err_msg=\"\"\n",
        "    test_passed = True\n",
        "    cast_spec = CastSpec(cast_time=2000, is_GCD=False)\n",
        "    if cast_spec.gcd_base_recast_time != 0:\n",
        "      err_msg = \"Recast time was expected to be 0, but it was {}\".format(cast_spec.gcd_base_recast_time)\n",
        "      test_passed = False\n",
        "    return test_passed, err_msg\n",
        "\n",
        "  @TestClass.is_a_test\n",
        "  def gcd_override_set_recast_time(self):\n",
        "    err_msg=\"\"\n",
        "    test_passed = True\n",
        "    cast_spec = CastSpec(cast_time=2000, gcd_base_recast_time=1500, base_recast_time=60000, is_GCD=False)\n",
        "    if cast_spec.gcd_base_recast_time != 1500:\n",
        "      err_msg = \"Recast time was expected to be 1500, but it was {}\".format(cast_spec.gcd_base_recast_time)\n",
        "      test_passed = False\n",
        "    return test_passed, err_msg\n",
        "\n",
        "class StatFnsTest(TestClass):\n",
        "  @TestClass.is_a_test\n",
        "  def get_time_using_speed_stat_test(self):\n",
        "    err_msg = \"\"\n",
        "    test_passed = True\n",
        "\n",
        "    gcd_inputs= {2500: ([1408, 1409, 1410], [2330, 2320, 2320]),\n",
        "                  3500: ([999, 1000, 1001], [3360, 3350, 3350])}\n",
        "\n",
        "    for gcd_time, inputs_and_outputs in gcd_inputs.items():\n",
        "      speed_stat = inputs_and_outputs[0]\n",
        "      expected = inputs_and_outputs[1]\n",
        "      for i in range(0, len(speed_stat)):\n",
        "          gcd_actual = StatFns.get_time_using_speed_stat(gcd_time, speed_stat[i])\n",
        "          gcd_expected = expected[i]\n",
        "          if gcd_actual != gcd_expected:\n",
        "            err_msg += \"gcd_time expected: {}. Actual: {}. For 3.5 gcd. \".format(gcd_expected, gcd_actual)\n",
        "            test_passed = False\n",
        "\n",
        "    return test_passed, err_msg"
      ],
      "metadata": {
        "id": "LHH5zniJlARZ"
      },
      "execution_count": 9,
      "outputs": []
    },
    {
      "cell_type": "code",
      "source": [
        "CastSpecTest().run_all()"
      ],
      "metadata": {
        "colab": {
          "base_uri": "https://localhost:8080/"
        },
        "id": "wRGS1Z8Pf7NT",
        "outputId": "938e8ace-6413-4ccd-e2be-6c71dcc0e79b"
      },
      "execution_count": 10,
      "outputs": [
        {
          "output_type": "stream",
          "name": "stdout",
          "text": [
            "Testing for CastSpecTest. 3/3 tests passed.\n",
            "Passing tests:\n",
            "gcd_override_gcd_test\n",
            "gcd_override_ogcd_test\n",
            "gcd_override_set_recast_time\n"
          ]
        }
      ]
    },
    {
      "cell_type": "code",
      "source": [
        "StatFnsTest().run_all()"
      ],
      "metadata": {
        "colab": {
          "base_uri": "https://localhost:8080/"
        },
        "id": "O4qxvPNT7bQ0",
        "outputId": "22130a29-d5cc-4e0b-d6c5-3d12bc4b7930"
      },
      "execution_count": 11,
      "outputs": [
        {
          "output_type": "stream",
          "name": "stdout",
          "text": [
            "Testing for StatFnsTest. 1/1 tests passed.\n",
            "Passing tests:\n",
            "get_time_using_speed_stat_test\n"
          ]
        }
      ]
    }
  ]
}