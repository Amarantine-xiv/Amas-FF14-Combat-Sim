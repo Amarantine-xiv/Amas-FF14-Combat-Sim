{
  "nbformat": 4,
  "nbformat_minor": 0,
  "metadata": {
    "colab": {
      "provenance": [],
      "authorship_tag": "ABX9TyNf5cdOtYzkRmRWYURZY6d7",
      "include_colab_link": true
    },
    "kernelspec": {
      "name": "python3",
      "display_name": "Python 3"
    },
    "language_info": {
      "name": "python"
    }
  },
  "cells": [
    {
      "cell_type": "markdown",
      "metadata": {
        "id": "view-in-github",
        "colab_type": "text"
      },
      "source": [
        "<a href=\"https://colab.research.google.com/github/Amarantine-xiv/Another-FF14-Combat-Sim/blob/main/CombatSim.ipynb\" target=\"_parent\"><img src=\"https://colab.research.google.com/assets/colab-badge.svg\" alt=\"Open In Colab\"/></a>"
      ]
    },
    {
      "cell_type": "markdown",
      "source": [
        "Copyright 2023 Amarantine Falena\n",
        "\n",
        "Licensed under the Apache License, Version 2.0 (the \"License\");\n",
        "you may not use this file except in compliance with the License.\n",
        "You may obtain a copy of the License at\n",
        "\n",
        "    https://www.apache.org/licenses/LICENSE-2.0\n",
        "\n",
        "Unless required by applicable law or agreed to in writing, software\n",
        "distributed under the License is distributed on an \"AS IS\" BASIS,\n",
        "WITHOUT WARRANTIES OR CONDITIONS OF ANY KIND, either express or implied.\n",
        "See the License for the specific language governing permissions and\n",
        "limitations under the License."
      ],
      "metadata": {
        "id": "DIjd47i9M1z3"
      }
    },
    {
      "cell_type": "code",
      "execution_count": 84,
      "metadata": {
        "id": "hj3dHK5xMykl",
        "cellView": "form"
      },
      "outputs": [],
      "source": [
        "#@title Imports\n",
        "\n",
        "import numpy as np\n",
        "import matplotlib.pyplot as plt\n",
        "import time\n",
        "import copy\n",
        "from dataclasses import dataclass, InitVar, field\n",
        "import heapq\n",
        "from enum import Enum"
      ]
    },
    {
      "cell_type": "code",
      "source": [
        "#@title Define stat tiers and class modifiers. Misc functions. ###\n",
        "def get_dh_stat(dh_stat):\n",
        "  return np.floor(550*(dh_stat-400)/1900)/1000\n",
        "  \n",
        "def get_gcd_time(speed_stat, base_gcd_time):\n",
        "  return (np.floor((1000*base_gcd_time)*(1000+np.ceil(130*(400-speed_stat)/1900))/10000)/100)\n",
        "\n",
        "def get_auto_delay(base_weapon_delay, buffs, debuffs):\n",
        "  return base_weapon_delay*(buffs.haste_time_reduction + debuffs.haste_time_reduction)      \n",
        "\n",
        "def get_crit_stats(crit_stat):\n",
        "  crit_rate = (np.floor(200*(crit_stat-400)/1900)+50)/1000\n",
        "  crit_bonus = (np.floor(200*(crit_stat-400)/1900)+400)/1000\n",
        "  return crit_rate, crit_bonus\n",
        "\n",
        "# from Hint's repo, https://github.com/hintxiv/reassemble\n",
        "def fAP(main_stat, isTank= False):\n",
        "  if isTank:\n",
        "    return np.floor(156*(main_stat-390)/390) + 100\n",
        "  return np.floor(195*(main_stat-390)/390) + 100\n",
        "\n",
        "def fTnc(tenacity):\n",
        "  return (1000+np.floor(100*(tenacity-400)/1900))/1000\n",
        "\n",
        "def fAuto(wd, weapon_delay, job_mod):\n",
        "  return np.floor(np.floor(390 * job_mod / 1000 + wd) * (weapon_delay / 3))\n",
        "\n",
        "# from Hint's repo, https://github.com/hintxiv/reassemble\n",
        "def fDet(det_stat):\n",
        "  return np.floor(140*(det_stat-390)/1900) + 1000\n",
        "\n",
        "# for taking into account bonuses from guranteed dhs.\n",
        "def fDetDH(det_stat, dh_stat):\n",
        "  return np.floor(140*(det_stat-390)/1900) + np.floor(140*(dh_stat-390)/1900) + 1000\n",
        "\n",
        "# from Hint's repo, https://github.com/hintxiv/reassemble\n",
        "def fWD(wd, job_mod):\n",
        "  return np.floor(390*job_mod/1000 + wd)\n",
        "\n",
        "# from Hint's repo, https://github.com/hintxiv/reassemble\n",
        "def fSpd(speed_stat):\n",
        "  return np.floor(130 * (speed_stat - 400) / 1900 + 1000)\n",
        "\n",
        "# See https://www.akhmorning.com/allagan-studies/modifiers/ . Each class' class num is its main attribute #.\n",
        "JOB_MODS = {'SCH': 115, 'WAR': 105, 'SAM': 112, 'RPR': 115}\n",
        "\n",
        "def compute_trait_dmg_add(job_class):\n",
        "  if job_class == 'SCH':\n",
        "    return 0.30  \n",
        "  else:\n",
        "    return 0\n",
        "\n",
        "def isCaster(job_class):\n",
        "  return job_class in ['RDM', 'BLM', 'BLU', 'SMN']\n",
        "\n",
        "def isHealer(job_class):\n",
        "  return job_class in ['SCH', 'WHM', 'AST', 'SGE']\n",
        "\n",
        "def isTank(job_class):\n",
        "  return job_class in ['GNB', 'WAR', 'PLD', 'DRK']\n"
      ],
      "metadata": {
        "id": "x_fYqPJUM5Jn",
        "cellView": "form"
      },
      "execution_count": 85,
      "outputs": []
    },
    {
      "cell_type": "code",
      "source": [
        "#@title Stats, ProcessedStats, StatusEffects\n",
        "@dataclass(frozen=True)\n",
        "class Stats():\n",
        "  wd: float\n",
        "  weapon_delay: float\n",
        "  main_stat: float\n",
        "  det_stat: float\n",
        "  dh_stat: float\n",
        "  crit_stat: float\n",
        "  speed_stat: float\n",
        "  job_class: str  \n",
        "  tenacity: float = None\n",
        "  num_roles_in_party: float = 5\n",
        "  healer_or_caster_strength: float= None\n",
        "  def __post_init__(self):\n",
        "     object.__setattr__(self, 'job_mod', JOB_MODS[self.job_class])\n",
        "     object.__setattr__(self, 'trait_dmg_add', compute_trait_dmg_add(self.job_class))\n",
        "\n",
        "@dataclass(frozen=True)\n",
        "class ProcessedStats():\n",
        "  stats: InitVar[Stats]\n",
        "\n",
        "  def __post_init__(self, stats):\n",
        "    object.__setattr__(self, 'stats', stats)\n",
        "    (crit_rate, crit_bonus) = get_crit_stats(stats.crit_stat)\n",
        "    object.__setattr__(self, 'crit_rate', crit_rate)\n",
        "    object.__setattr__(self, 'crit_bonus', crit_bonus)\n",
        "    object.__setattr__(self, 'det_bonus', fDet(stats.det_stat))\n",
        "    object.__setattr__(self, 'dh_rate', get_dh_stat(stats.dh_stat))\n",
        "\n",
        "  def  __str__(self):\n",
        "    res = 'Crit rate:' + str(self.crit_rate) + '\\n'\n",
        "    res += 'Crit bonus:' + str(self.crit_bonus) + '\\n'\n",
        "    res += '\\nDet bonus:' + str(self.det_bonus) + '\\n'\n",
        "    res += '\\nDH Rate:' + str(self.dh_rate)\n",
        "    res += '\\nDot Multiplier:' + str(self.dot_multiplier)    \n",
        "    return res  \n",
        "\n",
        "@dataclass(frozen=False)\n",
        "class StatusEffects:  \n",
        "  damage_mult: float = 1\n",
        "  crit_rate_add: float = 0\n",
        "  dh_rate_add: float = 0\n",
        "  main_stat_add: float = 0\n",
        "  haste_time_reduction: float = 0\n",
        "  active: dict = field(default_factory=dict)\n",
        "    \n",
        "  def __str__(self):\n",
        "    res = 'damage_mult: ' + str(self.damage_mult) + '\\n'\n",
        "    res += 'crit_rate_add: ' + str(self.crit_rate_add) + '\\n'\n",
        "    res += 'dh_rate_add: ' + str(self.dh_rate_add) + '\\n'\n",
        "    res += 'main_stat_add: ' + str(self.main_stat_add) + '\\n'\n",
        "    res += 'haste_time_reduction: ' + str(self.haste_time_reduction)\n",
        "    return res\n",
        "\n",
        "  def apply_augment(self, other):\n",
        "    self.main_stat_add += other.main_stat_add\n",
        "    self.crit_rate_add += other.crit_rate_add\n",
        "    self.dh_rate_add += other.dh_rate_add\n",
        "    self.haste_time_reduction += other.haste_time_reduction\n",
        "    self.damage_mult *= other.damage_mult      \n",
        "  \n",
        "  def unapply_augment(self, other):\n",
        "    self.main_stat_add -= other.main_stat_add\n",
        "    self.crit_rate_add -= other.crit_rate_add\n",
        "    self.dh_rate_add -= other.dh_rate_add\n",
        "    self.haste_time_reduction -= other.haste_time_reduction\n",
        "    self.damage_mult /= other.damage_mult"
      ],
      "metadata": {
        "id": "mwqoOqvqM7xo",
        "cellView": "form"
      },
      "execution_count": 86,
      "outputs": []
    },
    {
      "cell_type": "code",
      "source": [
        "#@title DamageClass, ForcedCritOrDH, CastSpec, DamageSpec, SkillStatusEffectSpec, Skill\n",
        "class DamageClass(Enum):\n",
        "    UNKNOWN = 0\n",
        "    DIRECT = 1\n",
        "    DOT = 2\n",
        "    AUTO = 3\n",
        "\n",
        "class ForcedCritOrDH(Enum):\n",
        "  UNKNOWN = 0\n",
        "  DEFAULT = 1\n",
        "  FORCE_NO = 2\n",
        "  FORCE_YES = 3\n",
        "  FORCE_YES_WITH_NO_DMG_BONUS = 4\n",
        "\n",
        "@dataclass(frozen=True)\n",
        "class CastSpec:\n",
        "  base_cast_time: float = 0\n",
        "  base_recast_time: float = 1\n",
        "  is_GCD: bool = True\n",
        "  animation_lock: float = 0.65\n",
        "\n",
        "@dataclass(frozen=True)\n",
        "class DamageSpec:\n",
        "  potency: float = None\n",
        "  damage_class: DamageClass = DamageClass.DIRECT\n",
        "  guaranteed_crit: ForcedCritOrDH = None\n",
        "  guaranteed_dh: ForcedCritOrDH = None\n",
        "  use_trait_buff: bool = True\n",
        "\n",
        "  # the fields below are used if the damage is a dot\n",
        "  dot_duration : float = None\n",
        "  dot_tick_name : str = \"\"\n",
        "  snapshots_buffs: bool = False\n",
        "  snapshots_debuffs: bool = False\n",
        "\n",
        "  def  __str__(self):\n",
        "    res = 'potency:' + str(self.potency) + '\\n'\n",
        "    res += 'guaranteed_crit:' + str(self.guaranteed_crit) + '\\n'\n",
        "    res += 'guaranteed_dh:' + str(self.guaranteed_dh) + '\\n'\n",
        "    res += 'use_trait_buff:' + str(self.use_trait_buff) + '\\n'\n",
        "    res += 'dot_duration:' + str(self.dot_duration) + '\\n'\n",
        "    res += 'dot_tick_name:' + str(self.dot_tick_name) + '\\n'\n",
        "    res += 'snapshots_buffs:' + str(self.snapshots_buffs)  + '\\n'\n",
        "    res += 'snapshots_debuffs:' + str(self.snapshots_debuffs)  + '\\n'\n",
        "    return res \n",
        "\n",
        "@dataclass(frozen=True)\n",
        "class SkillStatusEffectSpec:\n",
        "  duration: float\n",
        "  max_duration: float = None\n",
        "  crit_rate_add: float= 0\n",
        "  dh_rate_add: float= 0\n",
        "  main_stat_add: float= 0\n",
        "  damage_mult: float= 1\n",
        "  haste_time_reduction: float= 1\n",
        "\n",
        "  def __post_init__(self):\n",
        "    if self.max_duration is None:\n",
        "      object.__setattr__(self, 'max_duration', self.duration)  \n",
        "\n",
        "  def  __str__(self):\n",
        "    res = 'main_stat_add:' + str(self.main_stat_add) + '\\n'\n",
        "    res += 'crit_rate_add:' + str(self.crit_rate_add) + '\\n'\n",
        "    res += 'dh_rate_add:' + str(self.dh_rate_add) + '\\n'\n",
        "    res += 'damage_mult:' + str(self.damage_mult) + '\\n'\n",
        "    res += 'duration:' + str(self.duration) + '\\n'\n",
        "    res += 'max_duration:' + str(self.max_duration) + '\\n'\n",
        "    res += 'haste_time_reduction:' + str(self.haste_time_reduction)\n",
        "    return res \n",
        "\n",
        "@dataclass(frozen=True)\n",
        "class Skill:\n",
        "  name: str\n",
        "  damage_spec: DamageSpec = None\n",
        "  buff_spec: SkillStatusEffectSpec = None\n",
        "  debuff_spec: SkillStatusEffectSpec = None\n",
        "  cast_spec: CastSpec = None  \n",
        "  follow_up_skills : tuple = () # a tuple of tuples. Each element in the tuple is of the format (time_delay, skill_name).\n",
        "\n",
        "  def __gt__(self, other):\n",
        "    print('Warning: invoking comparison between skills:' + self.name + ' and ' + other.name + '. This is likely due to skills triggering at the same time. Comparisons are random.')\n",
        "    return self.name > other.name\n",
        "  def __lt__(self, other):\n",
        "    print('Warning: invoking comparison between skills:' + self.name + ' and ' + other.name + '. This is likely due to skills triggering at the same time. Comparisons are random.')\n",
        "    return self.name < other.name\n",
        "  def __eq__(self, other):\n",
        "    print('Warning: invoking comparison between skills:' + self.name + ' and ' + other.name + '. This is likely due to skills triggering at the same time. Comparisons are random.')\n",
        "    self.name == other.name\n",
        "\n",
        "  def __hash__(self):\n",
        "    return hash(self.name)\n",
        "\n",
        "  def  __str__(self):\n",
        "    res = 'name:' + str(self.name) + '\\n'\n",
        "    if self.damage_spec is None:\n",
        "      res += '---No damage spec---\\n'\n",
        "    else:\n",
        "      res += str(self.damage_spec)\n",
        "    if self.buff_spec is None:\n",
        "      res += '---No skill buff spec---\\n'\n",
        "    else:\n",
        "      res += str(self.buff_spec)\n",
        "    if self.follow_up_skills is not None:\n",
        "      for i in range(0, len(self.follow_up_skills)):\n",
        "        res += \"Follow up skill \" + str(i) + \". Delay: \" + str(self.follow_up_skills[i][0]) + '\\n'\n",
        "        res += str(self.follow_up_skills[i][0].name) + '\\n'\n",
        "    return res\n",
        "\n",
        "class ComputeDamage:  \n",
        "  @staticmethod\n",
        "  def compute_direct_damage(skill, processed_stats, buffs, debuffs, guaranteed_crit, guaranteed_dh):\n",
        "    stats = processed_stats.stats\n",
        "    is_tank = isTank(stats.job_class)\n",
        "    main_stat = stats.main_stat+buffs.main_stat_add+debuffs.main_stat_add\n",
        "    main_stat = np.floor(main_stat*(1+0.01*stats.num_roles_in_party))\n",
        "\n",
        "    # from HINT\n",
        "    potency = skill.damage_spec.potency\n",
        "    ap = fAP(main_stat, is_tank)\n",
        "    wd = fWD(stats.wd, stats.job_mod)\n",
        "    det = processed_stats.det_bonus\n",
        "    if guaranteed_dh is ForcedCritOrDH.FORCE_YES:\n",
        "      det_dh = fDetDH(stats.det_stat, stats.dh_stat)\n",
        "    else:\n",
        "      det_dh = det\n",
        "\n",
        "    # TODO: move to readme or somewhere better than this.\n",
        "    # 1) main stat changed by pots/party buffs (# of roles)\n",
        "    # 2) potency and fAP are taken into account\n",
        "    # 3) det (and potentially dh if autocrit) is taken into account\n",
        "    # 4) tnc is taken into account, if applicable (tanks)\n",
        "    # 5) sps/sks is taken into account, if applicable (eg, dots)\n",
        "    # 6) weapon damage and weapon delay are taken account, if applicable\n",
        "    # 7) apply the +1 for dots\n",
        "    # 8) apply guaranteed crit bonus using crit rate up, if applicable\n",
        "    # 9) apply guaranteed direct hit bonus dh up, if applicable\n",
        "    # 10) apply +-5% damage variance (on ALL sources of damage, direct, auto, dot)\n",
        "    # 11) crit/direct hit multipliers are taken into account, if applicable. NO FLOORING IS DONE HERE (but i can if you think i should)\n",
        "    # 12) traits are taken into account, if applicable\n",
        "    # 13) each straight up damage buff/enemy increased damage taken is taken into account multiplicatively. NO FLOORING IS DONE BETWEEN APPLYING BUFFS\n",
        "\n",
        "    base_damage = np.floor(potency*ap/100)/100\n",
        "    base_damage = np.floor(base_damage*det_dh/10)/100\n",
        "    if is_tank:\n",
        "      base_damage = np.floor(base_damage*fTnc(stats.tenacity))    \n",
        "    base_damage = np.floor(base_damage*wd)       \n",
        "\n",
        "    # take into account crit rate ups.\n",
        "    # according to latest damage formulas, we should account for this AFTER\n",
        "    # the regular crit roll, but we do it here for simplicity.\n",
        "    if guaranteed_crit is ForcedCritOrDH.FORCE_YES:\n",
        "      crit_rate_bonus = buffs.crit_rate_add + debuffs.crit_rate_add\n",
        "      base_damage += np.floor(base_damage*crit_rate_bonus*processed_stats.crit_bonus)\n",
        "\n",
        "    # take into account dh rate ups.\n",
        "    # according to latest damage formulas, we should account for this AFTER\n",
        "    # the regular dh roll, but we do it here for simplicity.\n",
        "    if guaranteed_dh is ForcedCritOrDH.FORCE_YES:\n",
        "      dh_rate_bonus = buffs.dh_rate_add + debuffs.dh_rate_add\n",
        "      base_damage += np.floor(base_damage*dh_rate_bonus*0.25)\n",
        "\n",
        "    return base_damage\n",
        "\n",
        "  @staticmethod\n",
        "  def compute_dot_damage(skill, processed_stats, buffs, debuffs, guaranteed_crit, guaranteed_dh):\n",
        "    # Q: what is the dot damage formula for tanks with tenacity?\n",
        "\n",
        "    stats = processed_stats.stats\n",
        "    is_tank = isTank(stats.job_class)\n",
        "    main_stat = stats.main_stat+buffs.main_stat_add+debuffs.main_stat_add\n",
        "    main_stat = np.floor(main_stat*(1+0.01*stats.num_roles_in_party))\n",
        "\n",
        "    potency = skill.damage_spec.potency\n",
        "    spd = fSpd(stats.speed_stat)\n",
        "    ap = fAP(main_stat, is_tank)\n",
        "    det = processed_stats.det_bonus\n",
        "    wd = fWD(stats.wd, stats.job_mod)\n",
        "    if guaranteed_dh is ForcedCritOrDH.FORCE_YES:\n",
        "      det_dh = fDetDH(stats.det_stat, stats.dh_stat)\n",
        "    else:\n",
        "      det_dh = det\n",
        "\n",
        "    base_damage = np.floor(potency*ap/100)/100\n",
        "    base_damage = np.floor(base_damage*det/10)/100\n",
        "    if is_tank:\n",
        "      base_damage = np.floor(base_damage*fTnc(stats.tenacity))\n",
        "    base_damage = np.floor(base_damage*spd)/1000\n",
        "    base_damage = np.floor(base_damage*wd)\n",
        "    base_damage = base_damage + 1\n",
        "\n",
        "    # take into account crit rate ups.\n",
        "    # according to latest damage formulas, we should account for this AFTER\n",
        "    # the regular crit roll, but we do it here for simplicity.\n",
        "    if guaranteed_crit is ForcedCritOrDH.FORCE_YES:\n",
        "      crit_rate_bonus = buffs.crit_rate_add + debuffs.crit_rate_add\n",
        "      base_damage += np.floor(base_damage*crit_rate_bonus*processed_stats.crit_bonus)\n",
        "\n",
        "    # take into account dh rate ups.\n",
        "    # according to latest damage formulas, we should account for this AFTER\n",
        "    # the regular dh roll, but we do it here for simplicity.\n",
        "    if guaranteed_dh is ForcedCritOrDH.FORCE_YES:\n",
        "      dh_rate_bonus = buffs.dh_rate_add + debuffs.dh_rate_add\n",
        "      base_damage += np.floor(base_damage*dh_rate_bonus*0.25)\n",
        "\n",
        "    return base_damage\n",
        "\n",
        "  @staticmethod\n",
        "  def compute_auto_damage(skill, processed_stats, buffs, debuffs, guaranteed_crit, guaranteed_dh):\n",
        "    stats = processed_stats.stats\n",
        "    if (isHealer(stats.job_class) or isCaster(stats.job_class)):\n",
        "      # for healers/casters, the statu used to compute autos is strength, not main stat. So use that and pots and party bonus doesn't affect it\n",
        "      if stats.healer_or_caster_strength is None:\n",
        "        raise RuntimeError('Cannot compute auto attack damage for healer/caster unless healer_or_caster_strength stat is specified.') \n",
        "      auto_main_stat = stats.healer_or_caster_strength      \n",
        "    else:\n",
        "      # for non-healers/casters, the stat used to compute autos is our main stat, and we get all the buffs/bonuses on it\n",
        "      auto_main_stat = stats.main_stat+buffs.main_stat_add+debuffs.main_stat_add\n",
        "      auto_main_stat = np.floor(auto_main_stat*(1+0.01*stats.num_roles_in_party))\n",
        "    \n",
        "    is_tank = isTank(stats.job_class)\n",
        "    potency = skill.damage_spec.potency\n",
        "    spd = fSpd(stats.speed_stat)\n",
        "    ap = fAP(auto_main_stat, is_tank)\n",
        "    det = processed_stats.det_bonus\n",
        "    weapon_delay = stats.weapon_delay\n",
        "    auto = fAuto(stats.wd, weapon_delay, stats.job_mod)\n",
        "    if guaranteed_dh is ForcedCritOrDH.FORCE_YES:\n",
        "      det_dh = fDetDH(stats.det_stat, stats.dh_stat)\n",
        "    else:\n",
        "      det_dh = det\n",
        "\n",
        "    base_damage = np.floor(potency*ap/100)/100\n",
        "    base_damage = np.floor(base_damage*det_dh/10)/100\n",
        "    if is_tank:\n",
        "      base_damage = np.floor(base_damage*fTnc(stats.tenacity))\n",
        "    base_damage = np.floor(base_damage*spd)/1000\n",
        "    base_damage = np.floor(base_damage*auto)\n",
        "\n",
        "    # take into account crit rate ups.\n",
        "    # according to latest damage formulas, we should account for this AFTER\n",
        "    # the regular crit roll, but we do it here for simplicity.\n",
        "    if guaranteed_crit is ForcedCritOrDH.FORCE_YES:\n",
        "      crit_rate_bonus = buffs.crit_rate_add + debuffs.crit_rate_add\n",
        "      base_damage += np.floor(base_damage*crit_rate_bonus*processed_stats.crit_bonus)\n",
        "\n",
        "    # take into account dh rate ups.\n",
        "    # according to latest damage formulas, we should account for this AFTER\n",
        "    # the regular dh roll, but we do it here for simplicity.\n",
        "    if guaranteed_dh is ForcedCritOrDH.FORCE_YES:\n",
        "      dh_rate_bonus = buffs.dh_rate_add + debuffs.dh_rate_add\n",
        "      base_damage += np.floor(base_damage*dh_rate_bonus*0.25)\n",
        "\n",
        "    return base_damage\n",
        "\n",
        "  @staticmethod\n",
        "  def get_base_damage(skill, processed_stats, buffs, debuffs, guaranteed_crit, guaranteed_dh):\n",
        "    if skill.damage_spec is None:\n",
        "      return None    \n",
        "    \n",
        "    if (skill.damage_spec.damage_class == DamageClass.DIRECT):\n",
        "        base_damage = ComputeDamage.compute_direct_damage(skill, processed_stats, buffs, debuffs, guaranteed_crit, guaranteed_dh)\n",
        "    elif (skill.damage_spec.damage_class == DamageClass.DOT):\n",
        "        base_damage = ComputeDamage.compute_dot_damage(skill, processed_stats, buffs, debuffs, guaranteed_crit, guaranteed_dh)\n",
        "    elif (skill.damage_spec.damage_class == DamageClass.AUTO):\n",
        "        base_damage = ComputeDamage.compute_auto_damage(skill, processed_stats, buffs, debuffs, guaranteed_crit, guaranteed_dh)\n",
        "    else:\n",
        "        base_damage = None\n",
        "    return base_damage"
      ],
      "metadata": {
        "id": "hgLhtcCTM6g_",
        "cellView": "form"
      },
      "execution_count": 87,
      "outputs": []
    },
    {
      "cell_type": "code",
      "source": [
        "#@title All skill specifications\n",
        "\n",
        "# Convenience objects. These are all immutable so we can use them safely in all skills if we like\n",
        "HEALER_GCD= CastSpec(base_cast_time=1.5, base_recast_time=2.5, is_GCD=True)\n",
        "WAR_GCD= CastSpec(base_cast_time=0, base_recast_time=2.5, is_GCD=True)\n",
        "SAM_GCD= CastSpec(base_cast_time=0, base_recast_time=2.5, is_GCD=True)\n",
        "\n",
        "class SkillLibrary:\n",
        "  def __init__(self):\n",
        "    self._skills = {}\n",
        "    self._dot_skills = {}\n",
        "  \n",
        "  def add_job_class(self, job_class):\n",
        "    self._skills[job_class] = {}\n",
        "    self._dot_skills[job_class] = set()\n",
        "  \n",
        "  def add_skill(self, job_class, name, damage_spec= None, buff_spec= None, debuff_spec= None, cast_spec= None, follow_up_skills = ()):\n",
        "    self._skills[job_class][name] = Skill(name,\n",
        "                                          damage_spec=damage_spec,\n",
        "                                          buff_spec=buff_spec,\n",
        "                                          debuff_spec=debuff_spec,\n",
        "                                          cast_spec=cast_spec,\n",
        "                                          follow_up_skills=follow_up_skills)\n",
        "\n",
        "    if damage_spec is not None and damage_spec.dot_duration is not None:\n",
        "      self._dot_skills[job_class].add(name)\n",
        "\n",
        "  def get_skill(self, job_class, name):\n",
        "    return self._skills[job_class][name]\n",
        "\n",
        "  def is_dot_skill(self, job_class, name):\n",
        "    return name in self._dot_skills[job_class]\n",
        "\n",
        "  def is_auto_skill(self, job_class, name):\n",
        "    return name == 'Auto'\n",
        "\n",
        "skill_library = SkillLibrary()\n",
        "skill_library.add_job_class('General')\n",
        "skill_library.add_skill('General', 'Pot', buff_spec = SkillStatusEffectSpec(duration= 30, main_stat_add=223), cast_spec=CastSpec(base_cast_time=0, base_recast_time=270, is_GCD=False, animation_lock=1.3))\n",
        "\n",
        "skill_library.add_job_class('SCH')\n",
        "skill_library.add_skill('SCH', 'Auto', damage_spec=DamageSpec(potency=80, damage_class=DamageClass.AUTO, use_trait_buff= False), cast_spec=CastSpec(base_cast_time=0, base_recast_time=None, is_GCD=0, animation_lock = 0))\n",
        "skill_library.add_skill('SCH', 'Broil', damage_spec=DamageSpec(potency=295), cast_spec=HEALER_GCD)\n",
        "skill_library.add_skill('SCH', 'EnergyDrain', damage_spec=DamageSpec(potency=100), cast_spec=CastSpec(base_cast_time=0, base_recast_time=1, is_GCD=False))\n",
        "skill_library.add_skill('SCH', 'ArtOfWar', damage_spec=DamageSpec(potency=165), cast_spec=CastSpec(base_cast_time=0, base_recast_time=2.5, is_GCD=False))\n",
        "skill_library.add_skill('SCH', 'ChainStrategem', debuff_spec= SkillStatusEffectSpec(duration=15, crit_rate_add=0.10), cast_spec=CastSpec(base_cast_time=0, base_recast_time=120, is_GCD=False))\n",
        "skill_library.add_skill('SCH', '_Biolysis_dot', damage_spec=DamageSpec(potency=70, damage_class=DamageClass.DOT), cast_spec=CastSpec(base_cast_time=0, base_recast_time=3, is_GCD=0, animation_lock=0))\n",
        "skill_library.add_skill('SCH', 'Biolysis', damage_spec=DamageSpec(damage_class=None, dot_duration=30, dot_tick_name= '_Biolysis_dot', snapshots_buffs = True, snapshots_debuffs = True), cast_spec=CastSpec(base_cast_time=0, base_recast_time=2.5, is_GCD=True))\n",
        "\n",
        "skill_library.add_job_class('WAR')\n",
        "skill_library.add_skill('WAR', 'Auto', damage_spec=DamageSpec(potency=90, damage_class=DamageClass.AUTO, use_trait_buff= False), cast_spec=CastSpec(base_cast_time=0, base_recast_time=None, is_GCD=0, animation_lock = 0))\n",
        "skill_library.add_skill('WAR', 'HeavySwing', damage_spec=DamageSpec(potency=200), cast_spec=WAR_GCD)\n",
        "skill_library.add_skill('WAR', 'Maim', damage_spec=DamageSpec(potency=300), cast_spec=WAR_GCD)\n",
        "skill_library.add_skill('WAR', 'StormsPath', damage_spec=DamageSpec(potency=430), cast_spec=WAR_GCD)\n",
        "skill_library.add_skill('WAR', 'StormsEye', damage_spec=DamageSpec(potency=430), buff_spec= SkillStatusEffectSpec(duration=30, max_duration=60, damage_mult=1.10), cast_spec=WAR_GCD)\n",
        "\n",
        "skill_library.add_skill('WAR', 'Upheaval', damage_spec=DamageSpec(potency=370), cast_spec=CastSpec(base_cast_time=0, base_recast_time=30, is_GCD=False))\n",
        "skill_library.add_skill('WAR', 'Onslaught', damage_spec=DamageSpec(potency=150), cast_spec=CastSpec(base_cast_time=0, base_recast_time=1, is_GCD=False))\n",
        "skill_library.add_skill('WAR', 'FellCleave', damage_spec=DamageSpec(potency=490), cast_spec=WAR_GCD)\n",
        "skill_library.add_skill('WAR', 'PrimalRend', damage_spec=DamageSpec(potency=700), cast_spec=CastSpec(base_cast_time=0, base_recast_time=2.5, is_GCD=True, animation_lock=1.3))\n",
        "skill_library.add_skill('WAR', 'InnerChaos', damage_spec=DamageSpec(potency=650, guaranteed_crit=ForcedCritOrDH.FORCE_YES,  guaranteed_dh=ForcedCritOrDH.FORCE_YES), cast_spec=CastSpec(base_cast_time=0, base_recast_time=2.5, is_GCD=True))\n",
        "skill_library.add_skill('WAR', 'Tomahawk', damage_spec=DamageSpec(potency=150), cast_spec=WAR_GCD)\n",
        "skill_library.add_skill('WAR', 'Overpower', damage_spec=DamageSpec(potency=110), cast_spec=WAR_GCD)\n",
        "skill_library.add_skill('WAR', 'MythrilTempest', damage_spec=DamageSpec(potency=150), cast_spec=WAR_GCD)\n",
        "skill_library.add_skill('WAR', 'Orogeny', damage_spec=DamageSpec(potency=150), cast_spec=CastSpec(base_cast_time=0, base_recast_time=30, is_GCD=False))\n",
        "skill_library.add_skill('WAR', 'Decimate', damage_spec=DamageSpec(potency=200), cast_spec=WAR_GCD)\n",
        "skill_library.add_skill('WAR', '_Maim_noCombo', damage_spec=DamageSpec(potency=150), cast_spec=WAR_GCD)\n",
        "skill_library.add_skill('WAR', '_StormsPath_noCombo', damage_spec=DamageSpec(potency=150), cast_spec=WAR_GCD)\n",
        "skill_library.add_skill('WAR', '_StormsEye_noCombo', damage_spec=DamageSpec(potency=150), cast_spec=WAR_GCD)\n",
        "skill_library.add_skill('WAR', '_MythrilTempest', damage_spec=DamageSpec(potency=100), cast_spec=WAR_GCD)\n",
        "\n",
        "skill_library.add_job_class('DNC')\n",
        "skill_library.add_skill('DNC', 'Devilment', buff_spec= SkillStatusEffectSpec(duration=20, crit_rate_add=0.2, dh_rate_add=0.2), cast_spec=CastSpec(base_cast_time=0, base_recast_time=120, is_GCD=False))\n",
        "\n",
        "skill_library.add_job_class('DRG')\n",
        "skill_library.add_skill('DRG', 'BattleLitany', buff_spec= SkillStatusEffectSpec(duration=15, crit_rate_add=0.1), cast_spec=CastSpec(base_cast_time=0, base_recast_time=120, is_GCD=False))\n",
        "\n",
        "skill_library.add_job_class('RPR')\n",
        "skill_library.add_skill('RPR', 'ArcaneCircle', buff_spec= SkillStatusEffectSpec(duration=20, damage_mult=1.03), cast_spec=CastSpec(base_cast_time=0, base_recast_time=120, is_GCD=False))\n",
        "\n",
        "skill_library.add_job_class('RDM')\n",
        "skill_library.add_skill('RDM', 'Embolden', buff_spec= SkillStatusEffectSpec(duration=20, damage_mult=1.05), cast_spec=CastSpec(base_cast_time=0, base_recast_time=120, is_GCD=False))\n",
        "\n",
        "skill_library.add_job_class('SAM')\n",
        "skill_library.add_skill('SAM', 'Auto', damage_spec=DamageSpec(potency=90, damage_class=DamageClass.AUTO, use_trait_buff= False), cast_spec=CastSpec(base_cast_time=0, base_recast_time=None, is_GCD=0, animation_lock = 0))\n",
        "skill_library.add_skill('SAM', 'Hakaze', damage_spec=DamageSpec(potency=200), cast_spec=SAM_GCD)\n",
        "skill_library.add_skill('SAM', 'Shifu', damage_spec=DamageSpec(potency=280), buff_spec=SkillStatusEffectSpec(duration=40, haste_time_reduction=0.13), cast_spec=SAM_GCD)\n",
        "skill_library.add_skill('SAM', 'Jinpu', damage_spec=DamageSpec(potency=280), buff_spec= SkillStatusEffectSpec(duration=40, damage_mult=1.13), cast_spec=SAM_GCD)\n",
        "skill_library.add_skill('SAM', 'Enpi', damage_spec=DamageSpec(potency=260), cast_spec=SAM_GCD)\n",
        "\n",
        "skill_library.add_skill('SAM', 'Shifu_noCombo', damage_spec=DamageSpec(potency=280), cast_spec=SAM_GCD)\n",
        "skill_library.add_skill('SAM', '_Jinpu_noCombo', damage_spec=DamageSpec(potency=120), buff_spec= SkillStatusEffectSpec(duration=40, damage_mult=1.13), cast_spec=SAM_GCD)\n",
        "skill_library.add_skill('SAM', '_Enpi_noCombo', damage_spec=DamageSpec(potency=100), cast_spec=SAM_GCD)\n"
      ],
      "metadata": {
        "id": "MNg2a6RTdsb_",
        "cellView": "form"
      },
      "execution_count": 88,
      "outputs": []
    },
    {
      "cell_type": "code",
      "source": [
        "#@title DpsTracker\n",
        "\n",
        "class DpsTracker():\n",
        "  def __init__(self):    \n",
        "    self.base_damage=np.zeros((5000,1))\n",
        "    self.crit_rate=np.zeros((5000,1))\n",
        "    self.crit_bonus=np.zeros((5000,1))\n",
        "    self.dh_rate = np.zeros((5000,1))\n",
        "    self.trait_mask = np.zeros((5000,1))\n",
        "    self.dmg_buff_mult = np.ones((5000,1))\n",
        "    self.it = 0\n",
        "    self.isFinalized = False\n",
        "\n",
        "  def add_damage(self, base_damage, crit_rate, crit_bonus, dh_rate, trait_mask, dmg_buff_mult):\n",
        "    if not self.isFinalized:\n",
        "      self.base_damage[self.it] = base_damage\n",
        "      self.crit_rate[self.it] = crit_rate\n",
        "      self.crit_bonus[self.it] = crit_bonus\n",
        "      self.dh_rate[self.it] = dh_rate\n",
        "      self.trait_mask[self.it] = trait_mask\n",
        "      self.dmg_buff_mult[self.it] = dmg_buff_mult\n",
        "      self.it +=1\n",
        "    else:\n",
        "      raise RuntimeError('DPS tracker is finalized. Cannot add damage instances.')\n",
        "\n",
        "  def finalize(self):\n",
        "    self.base_damage = self.base_damage[0:self.it]\n",
        "    self.crit_rate = self.crit_rate[0:self.it]\n",
        "    self.crit_bonus = self.crit_bonus[0:self.it]\n",
        "    self.dh_rate = self.dh_rate[0:self.it]\n",
        "    self.trait_mask = self.trait_mask[0:self.it]\n",
        "    self.dmg_buff_mult = self.dmg_buff_mult[0:self.it]\n",
        "    self.isFinalized = True    \n"
      ],
      "metadata": {
        "id": "g7OW8BCQM88z",
        "cellView": "form"
      },
      "execution_count": 89,
      "outputs": []
    },
    {
      "cell_type": "code",
      "source": [
        "#@title Rotation\n",
        "\n",
        "class RotationBuilder():\n",
        "  def __init__(self, stats, skill_library):    \n",
        "    self._q = []\n",
        "    self._stats = stats    \n",
        "    self._skill_library = skill_library\n",
        "    self._dot_skills = {}\n",
        "    self._is_built = False\n",
        "\n",
        "  @staticmethod\n",
        "  def _errors_and_warnings_check(skill, guaranteed_crit, guaranteed_dh):\n",
        "    if skill.damage_spec:\n",
        "      if skill.damage_spec.damage_class is not DamageClass.DIRECT and (guaranteed_crit is ForcedCritOrDH.FORCE_YES or guaranteed_crit is ForcedCritOrDH.FORCE_YES_WITH_NO_DMG_BONUS):\n",
        "        print('Warning: guaranteed crit should only be used for DIRECT damage. If you are seeing this msg, make sure you know what you are doing with guaranteed crit.')\n",
        "\n",
        "      if skill.damage_spec.damage_class is not DamageClass.DIRECT and (guaranteed_dh is ForcedCritOrDH.FORCE_YES or guaranteed_dh is ForcedCritOrDH.FORCE_YES_WITH_NO_DMG_BONUS):\n",
        "        print('Warning: guaranteed dh should only be used for DIRECT damage. If you are seeing this msg, make sure you know what you are doing with guaranteed dh.')\n",
        "        \n",
        "      if skill.damage_spec.guaranteed_crit is not None and guaranteed_crit is not None:\n",
        "        raise RuntimeError('Cannot specify guaranteed crit in skill spec and on this particular damage instance. Only one or the other should be specified.')\n",
        "      if skill.damage_spec.guaranteed_dh is not None and guaranteed_dh is not None:\n",
        "        raise RuntimeError('Cannot specify guaranteed dh in skill spec and on this particular damage instance. Only one or the other should be specified.')\n",
        "\n",
        "  @staticmethod\n",
        "  def _get_guaranteed_crit_dh(skill, guaranteed_crit, guaranteed_dh):\n",
        "    if skill.damage_spec:\n",
        "      if skill.damage_spec.guaranteed_crit is not None:\n",
        "        guaranteed_crit = skill.damage_spec.guaranteed_crit\n",
        "      if skill.damage_spec.guaranteed_dh is not None:\n",
        "        guaranteed_dh = skill.damage_spec.guaranteed_dh\n",
        "      \n",
        "    # neither the innate skill nor the adding of the skill specifies crit/dh. Default to the default behaviour.\n",
        "    if guaranteed_crit is None:\n",
        "      guaranteed_crit = ForcedCritOrDH.DEFAULT\n",
        "    if guaranteed_dh is None:\n",
        "      guaranteed_dh = ForcedCritOrDH.DEFAULT\n",
        "    return guaranteed_crit, guaranteed_dh\n",
        "\n",
        "  @staticmethod\n",
        "  def _get_damage_snapshot_time(skill, t):        \n",
        "    return t + max(skill.cast_spec.base_cast_time - 0.5, 0)\n",
        "  \n",
        "  def add_skill(self, t, name, job_class_to_use=None, snapshot_buffs=None, snapshot_debuffs=None, guaranteed_crit= None, guaranteed_dh= None):\n",
        "    if job_class_to_use is None:\n",
        "      job_class_to_use = self._stats.job_class\n",
        "\n",
        "    skill = self._skill_library.get_skill(job_class_to_use, name)      \n",
        "    RotationBuilder._errors_and_warnings_check(skill, guaranteed_crit, guaranteed_dh)\n",
        "    guaranteed_crit, guaranteed_dh = RotationBuilder._get_guaranteed_crit_dh(skill, guaranteed_crit, guaranteed_dh)\n",
        "    damage_snapshot_time = RotationBuilder._get_damage_snapshot_time(skill, t)  \n",
        "\n",
        "    if self._skill_library.is_dot_skill(job_class_to_use, name):\n",
        "      if(self._is_built):\n",
        "        raise RuntimeError(\"Cannot add a dot skill after rotation is built. It will not be expanded to all dot ticks correctly.\")\n",
        "\n",
        "      if skill not in self._dot_skills:\n",
        "        self._dot_skills[skill] = []\n",
        "      # Dots never snapshot buffs/debuffs   \n",
        "      self._dot_skills[skill].append((damage_snapshot_time, guaranteed_crit, guaranteed_dh))\n",
        "\n",
        "    else:\n",
        "      heapq.heappush(self._q, (damage_snapshot_time, skill, snapshot_buffs, snapshot_debuffs, guaranteed_crit, guaranteed_dh, [list(x) for x in skill.follow_up_skills]))\n",
        "\n",
        "  def get_next_damage_instance(self):\n",
        "    return heapq.heappop(self._q)\n",
        "\n",
        "  def is_empty(self):    \n",
        "    return len(self._q) == 0\n",
        "\n",
        "  def _process_dot_skills(self):\n",
        "    for skill in self._dot_skills:\n",
        "      # add tombstone ending skill to signify the end of the fight.\n",
        "      self._dot_skills[skill].append((np.Inf, None, None))\n",
        "      self._dot_skills[skill].sort(key=lambda x: x[0])\n",
        "      for i in range(0, len(self._dot_skills[skill])-1):\n",
        "        # Note: guaranteed_crit, guaranteed_dh refer to the damage portion ON the application of the dot, not the dot part itself.\n",
        "        dot_time, guaranteed_crit, guaranteed_dh = self._dot_skills[skill][i]\n",
        "        next_dot_time = self._dot_skills[skill][i+1][0]\n",
        "        curr_dot_duration = int(min(next_dot_time - dot_time, skill.damage_spec.dot_duration))\n",
        "        \n",
        "        follow_up_skills=[[delay, skill.damage_spec.dot_tick_name] for delay in range(0, curr_dot_duration,3)]\n",
        "        heapq.heappush(self._q, (dot_time, skill, None, None, guaranteed_crit, guaranteed_dh, follow_up_skills))\n",
        "\n",
        "  def print_rotation(self):\n",
        "    for i in self._q:\n",
        "      print('Time: {time}, Skill name: {skill_name}'.format(time=i[0], skill_name=i[1].name))\n",
        "\n",
        "  def build(self):\n",
        "    res = copy.deepcopy(self)\n",
        "    res._process_dot_skills()\n",
        "    res._is_built = True\n",
        "    return res"
      ],
      "metadata": {
        "id": "OqaCM_47u3Jn",
        "cellView": "form"
      },
      "execution_count": 90,
      "outputs": []
    },
    {
      "cell_type": "code",
      "source": [
        "#@title StatusEffectsTracker\n",
        "\n",
        "class StatusEffectsTracker:\n",
        "  def __init__(self, tracks_buffs, status_effects= None):\n",
        "    self.tracks_buffs = tracks_buffs\n",
        "    self.status_effects = StatusEffects() if status_effects is None else status_effects\n",
        "        \n",
        "  def _do_apply_status_effect(self, skill, status_effect_change_spec, t):\n",
        "    if skill not in self.status_effects.active.keys():\n",
        "      self.status_effects.active[skill] = t\n",
        "      self.status_effects.apply_augment(status_effect_change_spec)\n",
        "      \n",
        "    self.status_effects.active[skill] = min(self.status_effects.active[skill] + status_effect_change_spec.duration,\n",
        "                                            t + status_effect_change_spec.max_duration)\n",
        "\n",
        "  def apply_status_effects(self, skill, t):\n",
        "    if self.tracks_buffs:\n",
        "      if skill.buff_spec is not None:\n",
        "          self._do_apply_status_effect(skill, skill.buff_spec, t)\n",
        "    else:\n",
        "      if skill.debuff_spec is not None:\n",
        "          self._do_apply_status_effect(skill, skill.debuff_spec, t)\n",
        "\n",
        "  def _do_unapply_status_effect(self, skill, status_effect_change_spec):\n",
        "      if skill not in self.status_effects.active.keys():\n",
        "        raise RuntimeError('Error: attempting to unapply a status effect that is not currently active.')\n",
        "\n",
        "      self.status_effects.unapply_augment(status_effect_change_spec)\n",
        "      del self.status_effects.active[skill]\n",
        "\n",
        "  def unapply_all_expired_status_effects(self, t):\n",
        "    active_skills = list(self.status_effects.active.keys())\n",
        "    for skill in active_skills:\n",
        "      is_expired = self.status_effects.active[skill] < t\n",
        "      if is_expired:\n",
        "        if self.tracks_buffs and skill.buff_spec is not None:\n",
        "          self._do_unapply_status_effect(skill, skill.buff_spec)\n",
        "        if (not self.tracks_buffs) and skill.debuff_spec is not None:\n",
        "          self._do_unapply_status_effect(skill, skill.debuff_spec)"
      ],
      "metadata": {
        "id": "v-EilTN9wG9E",
        "cellView": "form"
      },
      "execution_count": 91,
      "outputs": []
    },
    {
      "cell_type": "code",
      "source": [
        "#@title Simulator\n",
        "class Simulator:\n",
        "  def __init__(self, stats, rotation, num_samples = 1000000, debug=False):\n",
        "    self.stats = stats\n",
        "    self.rotation = rotation\n",
        "    self.num_samples = num_samples    \n",
        "    self.buffs = StatusEffectsTracker(tracks_buffs=True)\n",
        "    self.debuffs = StatusEffectsTracker(tracks_buffs=False)\n",
        "    self.debug = debug\n",
        "\n",
        "  def _compute_crit_rates_and_bonuses(processed_stats, buffs_to_use, debuffs_to_use, guaranteed_crit, guaranteed_dh):\n",
        "    if guaranteed_crit is ForcedCritOrDH.FORCE_YES or guaranteed_crit is ForcedCritOrDH.FORCE_YES_WITH_NO_DMG_BONUS:\n",
        "      crit_rate = 1\n",
        "    elif guaranteed_crit is ForcedCritOrDH.FORCE_NO:\n",
        "      crit_rate = 0\n",
        "    else:\n",
        "      crit_rate = processed_stats.crit_rate + buffs_to_use.crit_rate_add + debuffs_to_use.crit_rate_add\n",
        "    crit_bonus = processed_stats.crit_bonus\n",
        "\n",
        "    if guaranteed_dh is ForcedCritOrDH.FORCE_YES or guaranteed_dh is ForcedCritOrDH.FORCE_YES_WITH_NO_DMG_BONUS:\n",
        "      dh_rate = 1\n",
        "    elif guaranteed_crit is ForcedCritOrDH.FORCE_NO:\n",
        "      dh_rate = 0\n",
        "    else:\n",
        "      dh_rate = processed_stats.dh_rate + buffs_to_use.dh_rate_add + debuffs_to_use.dh_rate_add\n",
        "    return (crit_rate, crit_bonus, dh_rate)\n",
        "  \n",
        "  def _update_rotation(self, snapshot_buffs, snapshot_debuffs, follow_up_skills, t):\n",
        "    if follow_up_skills is not None:      \n",
        "      for i in range (0, len(follow_up_skills)):\n",
        "        delay, follow_up_skill_name = follow_up_skills[i]        \n",
        "        self.rotation.add_skill(t+delay,follow_up_skill_name, snapshot_buffs=snapshot_buffs, snapshot_debuffs=snapshot_debuffs)\n",
        "\n",
        "  def _unapply_all_expired_status_effects(self, time):\n",
        "    self.buffs.unapply_all_expired_status_effects(time)\n",
        "    self.debuffs.unapply_all_expired_status_effects(time)\n",
        "\n",
        "  def _apply_status_effects(self, skill, time):\n",
        "    self.buffs.apply_status_effects(skill, time)\n",
        "    self.debuffs.apply_status_effects(skill, time)\n",
        "\n",
        "  def simulate(self):\n",
        "    processed_stats = ProcessedStats(self.stats)\n",
        "    dps_tracker = DpsTracker()    \n",
        "    \n",
        "    while not self.rotation.is_empty():\n",
        "      (time, skill, snapshot_buffs, snapshot_debuffs, guaranteed_crit, guaranteed_dh, follow_up_skills) = self.rotation.get_next_damage_instance()      \n",
        "      self._unapply_all_expired_status_effects(time)      \n",
        "\n",
        "      buffs_to_use = self.buffs.status_effects if snapshot_buffs is None else snapshot_buffs\n",
        "      debuffs_to_use = self.debuffs.status_effects if snapshot_debuffs is None else snapshot_debuffs\n",
        "\n",
        "      if self.debug:\n",
        "        print('Time: {time}, Skill name: {skill_name}'.format(time=time, skill_name=skill.name))\n",
        "        print(\"Buffs: \")\n",
        "        print(buffs_to_use)\n",
        "        print(\"Debuffs: \")\n",
        "        print(debuffs_to_use)\n",
        "          \n",
        "      base_damage = ComputeDamage.get_base_damage(skill, processed_stats, buffs_to_use, debuffs_to_use, guaranteed_crit, guaranteed_dh)\n",
        "      if base_damage is not None:  \n",
        "        (crit_rate, crit_bonus, dh_rate) = Simulator._compute_crit_rates_and_bonuses(processed_stats, buffs_to_use, debuffs_to_use, guaranteed_crit, guaranteed_dh)\n",
        "\n",
        "        trait_mask = 1 if skill.damage_spec.use_trait_buff is True else 0\n",
        "        dmg_buff_mult = buffs_to_use.damage_mult*debuffs_to_use.damage_mult\n",
        "\n",
        "        dps_tracker.add_damage(base_damage, crit_rate, crit_bonus, dh_rate, trait_mask, dmg_buff_mult)      \n",
        "            \n",
        "      self._apply_status_effects(skill, time)\n",
        "      \n",
        "      snapshot_buffs = copy.deepcopy(self.buffs.status_effects) if (skill.damage_spec and skill.damage_spec.snapshots_buffs) else None\n",
        "      snapshot_debuffs = copy.copy(self.debuffs.status_effects) if (skill.damage_spec and skill.damage_spec.snapshots_debuffs) else None\n",
        "      self._update_rotation(snapshot_buffs, snapshot_debuffs, follow_up_skills, time)    \n",
        "\n",
        "    dps_tracker.finalize()\n",
        "\n",
        "    num_damage_instances = dps_tracker.base_damage.shape[0]\n",
        "    total_damage = np.floor(dps_tracker.base_damage*(0.95+np.random.rand(num_damage_instances,self.num_samples)/10))    \n",
        "    total_damage += np.floor(np.multiply(total_damage, np.multiply(dps_tracker.crit_bonus, dps_tracker.crit_rate >= np.random.rand(num_damage_instances,self.num_samples))))\n",
        "    total_damage += np.floor(np.multiply(total_damage, 0.25*(dps_tracker.dh_rate >= np.random.rand(num_damage_instances,self.num_samples))))\n",
        "    total_damage += np.floor(np.multiply(total_damage, stats.trait_dmg_add*dps_tracker.trait_mask))\n",
        "    total_damage = np.floor(np.multiply(total_damage, dps_tracker.dmg_buff_mult))\n",
        "    total_damage = np.sum(total_damage,axis=0)\n",
        "    return total_damage, dps_tracker"
      ],
      "metadata": {
        "id": "_LyZxsWQSc4k",
        "cellView": "form"
      },
      "execution_count": 92,
      "outputs": []
    },
    {
      "cell_type": "code",
      "source": [
        "#@title Display results\n",
        "def display_results(total_damage, fight_time, verbose=True):\n",
        "  PERCENTILES_TO_USE = [25,50,75,95,99]\n",
        "  COLOURS_TO_USE = ['g', 'b', (0.36, 0.28, 0.55), (1,0.5,0), (0.68,0.14,0.37)]\n",
        "  percs = np.percentile(total_damage, PERCENTILES_TO_USE)\n",
        "  count, bins_count = np.histogram(total_damage, bins=1000)\n",
        "  pdf = count / sum(count)\n",
        "  cdf = np.cumsum(pdf)\n",
        "  plt.figure()\n",
        "  plt.plot(bins_count[1:], pdf, label=\"PDF\")\n",
        "  for i in range(len(percs)):\n",
        "    plt.plot([percs[i], percs[i]], [0, max(pdf)], color=COLOURS_TO_USE[i])\n",
        "  plt.figure()\n",
        "  plt.plot(bins_count[1:], cdf, label=\"CDF\")\n",
        "  plt.title('CDF of rotation')\n",
        "  plt.xlabel('Total damage')\n",
        "  plt.ylabel('Cumulative probability')\n",
        "  if(verbose):\n",
        "    print('Average damage: ' + str(np.mean(total_damage)))\n",
        "    print('Average dps: ' + str(np.mean(total_damage/fight_time)))\n",
        "    for i in range(0, len(PERCENTILES_TO_USE)):\n",
        "      print('dps percentile ' + str(PERCENTILES_TO_USE[i]) + ': ' + str(percs[i]/fight_time))"
      ],
      "metadata": {
        "id": "Cc7Nz_m7MltJ",
        "cellView": "form"
      },
      "execution_count": 93,
      "outputs": []
    },
    {
      "cell_type": "code",
      "source": [
        "#@title Test utils\n",
        "\n",
        "def do_test(test_name, sim, fight_time, expected_dps, tol=0.02, verbose=False):\n",
        "  print('===Doing test: {test_name}==='.format(test_name=test_name))\n",
        "  start_time = time.time()\n",
        "\n",
        "  total_damage, dps_tracker = sim.simulate()\n",
        "  end_time = time.time()\n",
        "\n",
        "  display_results(total_damage, fight_time, verbose)\n",
        "  print('Time taken: ' + str(end_time-start_time))\n",
        "\n",
        "  actual_dps = np.mean(total_damage)/fight_time\n",
        "  print(\"expected vs actual dps: {expected}, {actual}\".format(expected=expected_dps, actual=actual_dps))\n",
        "  \n",
        "  test_result = \"PASS\" if np.abs((expected_dps - actual_dps)/expected_dps) < tol else \"FAIL\"\n",
        "  print(\"Test result: {result}\".format(result=test_result))\n"
      ],
      "metadata": {
        "cellView": "form",
        "id": "6Kqy-tI6-YX_"
      },
      "execution_count": 94,
      "outputs": []
    },
    {
      "cell_type": "code",
      "source": [
        "# rotations in progress here\n",
        "stats = Stats(wd=126, weapon_delay=3.36, main_stat=2907, det_stat=1883, crit_stat=2255, dh_stat=868, speed_stat=400, tenacity=631, job_class = 'SAM')\n",
        "gcd_time = 2.48\n",
        "\n",
        "rb= RotationBuilder(stats, skill_library)\n",
        "rb.add_skill(0*gcd_time, 'Hakaze')\n",
        "rb.add_skill(1*gcd_time, 'Shifu')\n",
        "fight_time = 2*gcd_time\n",
        "sim = Simulator(stats, rb.build(), debug=False, num_samples=100000)\n",
        "do_test('in progress', sim, fight_time, 3076)"
      ],
      "metadata": {
        "id": "bCwwruBM_Y3C",
        "colab": {
          "base_uri": "https://localhost:8080/",
          "height": 614
        },
        "outputId": "30619dee-3713-4a1a-81a3-9d293404c262"
      },
      "execution_count": 95,
      "outputs": [
        {
          "output_type": "stream",
          "name": "stdout",
          "text": [
            "===Doing test: in progress===\n",
            "Time taken: 0.022215843200683594\n",
            "expected vs actual dps: 3076, 3073.9061532258065\n",
            "Test result: PASS\n"
          ]
        },
        {
          "output_type": "display_data",
          "data": {
            "text/plain": [
              "<Figure size 432x288 with 1 Axes>"
            ],
            "image/png": "[encoded data removed]"
          },
          "metadata": {
            "needs_background": "light"
          }
        },
        {
          "output_type": "display_data",
          "data": {
            "text/plain": [
              "<Figure size 432x288 with 1 Axes>"
            ],
            "image/png": "[encoded data removed]"
          },
          "metadata": {
            "needs_background": "light"
          }
        }
      ]
    },
    {
      "cell_type": "code",
      "source": [
        "TEST_KEYS= ['all']"
      ],
      "metadata": {
        "id": "698NuYcY0cU0"
      },
      "execution_count": 96,
      "outputs": []
    },
    {
      "cell_type": "code",
      "source": [
        "#@title SCH_bio_test sim\n",
        "test_name = 'SCH_BIO_TEST'\n",
        "if test_name in TEST_KEYS or 'all' in TEST_KEYS:\n",
        "  stats = Stats(wd=126, weapon_delay=3.12, main_stat=2947, det_stat=1695, crit_stat=2255, dh_stat=904, speed_stat=839, job_class = 'SCH', healer_or_caster_strength=351)\n",
        "\n",
        "  gcd_time=2.42\n",
        "  rb= RotationBuilder(stats, skill_library)\n",
        "\n",
        "  # rb.add_skill(0*gcd_time, 'Broil')\n",
        "  # should return about 1146. just the broils\n",
        "  # 3 bios: 1146, 2 bios: 1051, 1bio: 955\n",
        "  rb.add_skill(0*gcd_time, 'Biolysis')\n",
        "  rb.add_skill(1*gcd_time, 'Biolysis')\n",
        "  rb.add_skill(2*gcd_time, 'Biolysis')\n",
        "  #dots snapshot so this buff should have no effect\n",
        "  rb.add_skill(3*gcd_time+0.6, 'ChainStrategem')\n",
        "  fight_time = 13*gcd_time\n",
        "\n",
        "  sim = Simulator(stats, rb.build(), debug=False, num_samples=100000)\n",
        "  do_test(test_name, sim, fight_time, 1146)"
      ],
      "metadata": {
        "id": "zXGF_xorG2WW",
        "cellView": "form",
        "colab": {
          "base_uri": "https://localhost:8080/",
          "height": 614
        },
        "outputId": "664abc0d-f7ba-40e3-b0de-da77b977bea1"
      },
      "execution_count": 97,
      "outputs": [
        {
          "output_type": "stream",
          "name": "stdout",
          "text": [
            "===Doing test: SCH_BIO_TEST===\n",
            "Time taken: 0.12311577796936035\n",
            "expected vs actual dps: 1146, 1146.758985060394\n",
            "Test result: PASS\n"
          ]
        },
        {
          "output_type": "display_data",
          "data": {
            "text/plain": [
              "<Figure size 432x288 with 1 Axes>"
            ],
            "image/png": "[encoded data removed]"
          },
          "metadata": {
            "needs_background": "light"
          }
        },
        {
          "output_type": "display_data",
          "data": {
            "text/plain": [
              "<Figure size 432x288 with 1 Axes>"
            ],
            "image/png": "[encoded data removed]"
          },
          "metadata": {
            "needs_background": "light"
          }
        }
      ]
    },
    {
      "cell_type": "code",
      "source": [
        "#@title SCH sim\n",
        "test_name = 'SCH'\n",
        "if test_name in TEST_KEYS or 'all' in TEST_KEYS:\n",
        "  stats = Stats(wd=126, weapon_delay=3.12, main_stat=2947, det_stat=1695, crit_stat=2255, dh_stat=904, speed_stat=839, job_class = 'SCH', healer_or_caster_strength=351)\n",
        "  # stats = Stats(wd=126, weapon_delay=3.12, main_stat=2949, det_stat=1721, crit_stat=2387, dh_stat=1340, speed_stat=536, job_class = 'SCH')\n",
        "\n",
        "  gcd_time=2.42\n",
        "  rb= RotationBuilder(stats, skill_library)\n",
        "\n",
        "  # rb.add_skill(0*gcd_time, 'Broil')\n",
        "  # should return about 1146. just the broils\n",
        "  # 3 bios: 1146, 2 bios: 1051, 1bio: 955\n",
        "  # rb.add_skill(0*gcd_time, 'Biolysis')\n",
        "  # rb.add_skill(1*gcd_time, 'Biolysis')\n",
        "  # rb.add_skill(2*gcd_time, 'Biolysis')\n",
        "\n",
        "  ## Should return ~7500 average dps\n",
        "  rb.add_skill(1*gcd_time+0.1, 'Auto')\n",
        "  rb.add_skill(-2.5, 'Pot', 'General')\n",
        "  rb.add_skill(1*gcd_time, 'Biolysis')\n",
        "  rb.add_skill(0*gcd_time, 'Broil')\n",
        "  rb.add_skill(2*gcd_time, 'Broil')\n",
        "  rb.add_skill(3*gcd_time, 'Broil')\n",
        "  rb.add_skill(3*gcd_time+0.6, 'ChainStrategem')\n",
        "  rb.add_skill(3*gcd_time+1.2, 'EnergyDrain')\n",
        "  rb.add_skill(4*gcd_time, 'Broil')\n",
        "  rb.add_skill(4*gcd_time+0.6, 'EnergyDrain')\n",
        "  rb.add_skill(5*gcd_time, 'Broil')\n",
        "  rb.add_skill(5*gcd_time+0.6, 'EnergyDrain')\n",
        "  rb.add_skill(6*gcd_time, 'Broil')\n",
        "  rb.add_skill(6*gcd_time+0.6, 'EnergyDrain')\n",
        "  rb.add_skill(7*gcd_time, 'Broil')\n",
        "  rb.add_skill(7*gcd_time+0.6, 'EnergyDrain')\n",
        "  rb.add_skill(8*gcd_time, 'Broil')\n",
        "  rb.add_skill(8*gcd_time+0.6, 'EnergyDrain')\n",
        "  rb.add_skill(9*gcd_time, 'Broil')\n",
        "  rb.add_skill(10*gcd_time, 'Broil')\n",
        "  rb.add_skill(11*gcd_time, 'Broil')\n",
        "  rb.add_skill(12*gcd_time, 'Broil')\n",
        "  rb.add_skill(13*gcd_time, 'Broil')\n",
        "  fight_time = 13*gcd_time\n",
        "\n",
        "  sim = Simulator(stats, rb.build(), debug=False, num_samples=100000)\n",
        "  do_test(test_name, sim, fight_time, 7500)\n"
      ],
      "metadata": {
        "id": "0bUmTFRrd6gT",
        "cellView": "form",
        "colab": {
          "base_uri": "https://localhost:8080/",
          "height": 614
        },
        "outputId": "26d7bff3-8440-43ab-c45f-bb766fa42e3f"
      },
      "execution_count": 98,
      "outputs": [
        {
          "output_type": "stream",
          "name": "stdout",
          "text": [
            "===Doing test: SCH===\n",
            "Time taken: 0.2752857208251953\n",
            "expected vs actual dps: 7500, 7499.028951684679\n",
            "Test result: PASS\n"
          ]
        },
        {
          "output_type": "display_data",
          "data": {
            "text/plain": [
              "<Figure size 432x288 with 1 Axes>"
            ],
            "image/png": "[encoded data removed]"
          },
          "metadata": {
            "needs_background": "light"
          }
        },
        {
          "output_type": "display_data",
          "data": {
            "text/plain": [
              "<Figure size 432x288 with 1 Axes>"
            ],
            "image/png": "[encoded data removed]"
          },
          "metadata": {
            "needs_background": "light"
          }
        }
      ]
    },
    {
      "cell_type": "code",
      "source": [
        "#@title WAR sim\n",
        "test_name = 'WAR'\n",
        "if test_name in TEST_KEYS or 'all' in TEST_KEYS:\n",
        "  stats = Stats(wd=126, weapon_delay=3.36, main_stat=2907, det_stat=1883, crit_stat=2255, dh_stat=868, speed_stat=400, tenacity=631, job_class = 'WAR')\n",
        "\n",
        "  gcd_time=2.46\n",
        "  rb= RotationBuilder(stats, skill_library)\n",
        "\n",
        "  # Should return ~11432 average dps\n",
        "  rb.add_skill(6.3, 'ChainStrategem', 'SCH')\n",
        "  rb.add_skill(7.1, 'BattleLitany', 'DRG')\n",
        "  rb.add_skill(0.8, 'ArcaneCircle', 'RPR')\n",
        "  rb.add_skill(6.3, 'Embolden', 'RDM')\n",
        "  rb.add_skill(3.9, 'Pot', 'General')\n",
        "\n",
        "  rb.add_skill(0*gcd_time, 'HeavySwing')\n",
        "  rb.add_skill(1*gcd_time, 'Maim')\n",
        "  rb.add_skill(2*gcd_time, 'StormsEye')\n",
        "  rb.add_skill(3*gcd_time, 'InnerChaos')\n",
        "  rb.add_skill(3*gcd_time+0.6, 'Upheaval')\n",
        "  rb.add_skill(3*gcd_time+1.2, 'Onslaught')\n",
        "  rb.add_skill(4*gcd_time, 'PrimalRend')\n",
        "  rb.add_skill(5*gcd_time, 'InnerChaos')\n",
        "  rb.add_skill(5*gcd_time+0.6, 'Onslaught')\n",
        "  rb.add_skill(6*gcd_time, 'FellCleave', guaranteed_crit=ForcedCritOrDH.FORCE_YES, guaranteed_dh=ForcedCritOrDH.FORCE_YES)\n",
        "  rb.add_skill(6*gcd_time+0.6, 'Onslaught')\n",
        "  rb.add_skill(7*gcd_time, 'FellCleave', guaranteed_crit=ForcedCritOrDH.FORCE_YES, guaranteed_dh=ForcedCritOrDH.FORCE_YES)\n",
        "  rb.add_skill(8*gcd_time, 'FellCleave', guaranteed_crit=ForcedCritOrDH.FORCE_YES, guaranteed_dh=ForcedCritOrDH.FORCE_YES)\n",
        "  rb.add_skill(9*gcd_time, 'HeavySwing')\n",
        "  rb.add_skill(10*gcd_time, 'Maim')\n",
        "  rb.add_skill(11*gcd_time, 'StormsPath')\n",
        "  rb.add_skill(12*gcd_time, 'FellCleave')\n",
        "  rb.add_skill(13*gcd_time, 'InnerChaos')\n",
        "  \n",
        "  #add auto-attacks\n",
        "  cur_t = 0\n",
        "  while cur_t <= 13*gcd_time:\n",
        "    rb.add_skill(cur_t, 'Auto')\n",
        "    cur_t += stats.weapon_delay\n",
        "\n",
        "  fight_time = 13*gcd_time\n",
        "\n",
        "  sim = Simulator(stats, rb.build(), debug=False, num_samples=100000)\n",
        "  do_test(test_name, sim, fight_time, 11432)\n"
      ],
      "metadata": {
        "id": "bdw8cJYsezjN",
        "cellView": "form",
        "colab": {
          "base_uri": "https://localhost:8080/",
          "height": 686
        },
        "outputId": "8a15de35-0f05-499e-c381-8b8f913cd944"
      },
      "execution_count": 99,
      "outputs": [
        {
          "output_type": "stream",
          "name": "stdout",
          "text": [
            "Warning: invoking comparison between skills:Auto and HeavySwing. This is likely due to skills triggering at the same time. Comparisons are random.\n",
            "Warning: invoking comparison between skills:Auto and HeavySwing. This is likely due to skills triggering at the same time. Comparisons are random.\n",
            "===Doing test: WAR===\n",
            "Warning: invoking comparison between skills:Embolden and ChainStrategem. This is likely due to skills triggering at the same time. Comparisons are random.\n",
            "Warning: invoking comparison between skills:Embolden and ChainStrategem. This is likely due to skills triggering at the same time. Comparisons are random.\n",
            "Time taken: 0.17982792854309082\n",
            "expected vs actual dps: 11432, 11432.46692682927\n",
            "Test result: PASS\n"
          ]
        },
        {
          "output_type": "display_data",
          "data": {
            "text/plain": [
              "<Figure size 432x288 with 1 Axes>"
            ],
            "image/png": "[encoded data removed]"
          },
          "metadata": {
            "needs_background": "light"
          }
        },
        {
          "output_type": "display_data",
          "data": {
            "text/plain": [
              "<Figure size 432x288 with 1 Axes>"
            ],
            "image/png": "[encoded data removed]"
          },
          "metadata": {
            "needs_background": "light"
          }
        }
      ]
    },
    {
      "cell_type": "code",
      "source": [
        "#@title WAR all crit sim\n",
        "test_name = 'WAR_crit'\n",
        "if test_name in TEST_KEYS or 'all' in TEST_KEYS:\n",
        "  stats = Stats(wd=126, weapon_delay=3.36, main_stat=2907, det_stat=1883, crit_stat=2255, dh_stat=868, speed_stat=400, tenacity=631, job_class = 'WAR')\n",
        "\n",
        "  gcd_time=2.46\n",
        "  rb= RotationBuilder(stats, skill_library)\n",
        "\n",
        "  rb.add_skill(6.3, 'ChainStrategem', 'SCH')\n",
        "  rb.add_skill(7.1, 'BattleLitany', 'DRG')\n",
        "  rb.add_skill(0.8, 'ArcaneCircle', 'RPR')\n",
        "  rb.add_skill(6.3, 'Embolden', 'RDM')\n",
        "  rb.add_skill(3.9, 'Pot', 'General')\n",
        "\n",
        "  rb.add_skill(0*gcd_time, 'HeavySwing', guaranteed_crit=ForcedCritOrDH.FORCE_YES_WITH_NO_DMG_BONUS, guaranteed_dh=ForcedCritOrDH.FORCE_YES_WITH_NO_DMG_BONUS)\n",
        "  rb.add_skill(1*gcd_time, 'Maim', guaranteed_crit=ForcedCritOrDH.FORCE_YES_WITH_NO_DMG_BONUS, guaranteed_dh=ForcedCritOrDH.FORCE_YES_WITH_NO_DMG_BONUS)\n",
        "  rb.add_skill(2*gcd_time, 'StormsEye', guaranteed_crit=ForcedCritOrDH.FORCE_YES_WITH_NO_DMG_BONUS, guaranteed_dh=ForcedCritOrDH.FORCE_YES_WITH_NO_DMG_BONUS)\n",
        "  rb.add_skill(3*gcd_time, 'InnerChaos')\n",
        "  rb.add_skill(3*gcd_time+0.6, 'Upheaval', guaranteed_crit=ForcedCritOrDH.FORCE_YES_WITH_NO_DMG_BONUS, guaranteed_dh=ForcedCritOrDH.FORCE_YES_WITH_NO_DMG_BONUS)\n",
        "  rb.add_skill(3*gcd_time+1.2, 'Onslaught', guaranteed_crit=ForcedCritOrDH.FORCE_YES_WITH_NO_DMG_BONUS, guaranteed_dh=ForcedCritOrDH.FORCE_YES_WITH_NO_DMG_BONUS)\n",
        "  rb.add_skill(4*gcd_time, 'PrimalRend', guaranteed_crit=ForcedCritOrDH.FORCE_YES_WITH_NO_DMG_BONUS, guaranteed_dh=ForcedCritOrDH.FORCE_YES_WITH_NO_DMG_BONUS)\n",
        "  rb.add_skill(5*gcd_time, 'InnerChaos')\n",
        "  rb.add_skill(5*gcd_time+0.6, 'Onslaught', guaranteed_crit=ForcedCritOrDH.FORCE_YES_WITH_NO_DMG_BONUS, guaranteed_dh=ForcedCritOrDH.FORCE_YES_WITH_NO_DMG_BONUS)\n",
        "  rb.add_skill(6*gcd_time, 'FellCleave', guaranteed_crit=ForcedCritOrDH.FORCE_YES, guaranteed_dh=ForcedCritOrDH.FORCE_YES)\n",
        "  rb.add_skill(6*gcd_time+0.6, 'Onslaught', guaranteed_crit=ForcedCritOrDH.FORCE_YES_WITH_NO_DMG_BONUS, guaranteed_dh=ForcedCritOrDH.FORCE_YES_WITH_NO_DMG_BONUS)\n",
        "  rb.add_skill(7*gcd_time, 'FellCleave', guaranteed_crit=ForcedCritOrDH.FORCE_YES, guaranteed_dh=ForcedCritOrDH.FORCE_YES)\n",
        "  rb.add_skill(8*gcd_time, 'FellCleave', guaranteed_crit=ForcedCritOrDH.FORCE_YES, guaranteed_dh=ForcedCritOrDH.FORCE_YES)\n",
        "  rb.add_skill(9*gcd_time, 'HeavySwing', guaranteed_crit=ForcedCritOrDH.FORCE_YES_WITH_NO_DMG_BONUS, guaranteed_dh=ForcedCritOrDH.FORCE_YES_WITH_NO_DMG_BONUS)\n",
        "  rb.add_skill(10*gcd_time, 'Maim', guaranteed_crit=ForcedCritOrDH.FORCE_YES_WITH_NO_DMG_BONUS, guaranteed_dh=ForcedCritOrDH.FORCE_YES_WITH_NO_DMG_BONUS)\n",
        "  rb.add_skill(11*gcd_time, 'StormsPath', guaranteed_crit=ForcedCritOrDH.FORCE_YES_WITH_NO_DMG_BONUS, guaranteed_dh=ForcedCritOrDH.FORCE_YES_WITH_NO_DMG_BONUS)\n",
        "  rb.add_skill(12*gcd_time, 'FellCleave', guaranteed_crit=ForcedCritOrDH.FORCE_YES_WITH_NO_DMG_BONUS, guaranteed_dh=ForcedCritOrDH.FORCE_YES_WITH_NO_DMG_BONUS)\n",
        "  rb.add_skill(13*gcd_time, 'InnerChaos')\n",
        "  \n",
        "  #add auto-attacks\n",
        "  cur_t = 0\n",
        "  while cur_t <= 13*gcd_time:\n",
        "    rb.add_skill(cur_t, 'Auto', guaranteed_crit=ForcedCritOrDH.FORCE_YES_WITH_NO_DMG_BONUS, guaranteed_dh=ForcedCritOrDH.FORCE_YES_WITH_NO_DMG_BONUS)\n",
        "    cur_t += stats.weapon_delay    \n",
        "\n",
        "  fight_time = 13*gcd_time\n",
        "\n",
        "  sim = Simulator(stats, rb.build(), debug=False, num_samples=100000)\n",
        "  do_test(test_name, sim, fight_time, 14390)\n"
      ],
      "metadata": {
        "colab": {
          "base_uri": "https://localhost:8080/",
          "height": 1000
        },
        "cellView": "form",
        "id": "wBqWG0s2-jT0",
        "outputId": "f8eb1faf-d487-407d-eb08-0945cc35caed"
      },
      "execution_count": 100,
      "outputs": [
        {
          "output_type": "stream",
          "name": "stdout",
          "text": [
            "Warning: guaranteed crit should only be used for DIRECT damage. If you are seeing this msg, make sure you know what you are doing with guaranteed crit.\n",
            "Warning: guaranteed dh should only be used for DIRECT damage. If you are seeing this msg, make sure you know what you are doing with guaranteed dh.\n",
            "Warning: invoking comparison between skills:Auto and HeavySwing. This is likely due to skills triggering at the same time. Comparisons are random.\n",
            "Warning: invoking comparison between skills:Auto and HeavySwing. This is likely due to skills triggering at the same time. Comparisons are random.\n",
            "Warning: guaranteed crit should only be used for DIRECT damage. If you are seeing this msg, make sure you know what you are doing with guaranteed crit.\n",
            "Warning: guaranteed dh should only be used for DIRECT damage. If you are seeing this msg, make sure you know what you are doing with guaranteed dh.\n",
            "Warning: guaranteed crit should only be used for DIRECT damage. If you are seeing this msg, make sure you know what you are doing with guaranteed crit.\n",
            "Warning: guaranteed dh should only be used for DIRECT damage. If you are seeing this msg, make sure you know what you are doing with guaranteed dh.\n",
            "Warning: guaranteed crit should only be used for DIRECT damage. If you are seeing this msg, make sure you know what you are doing with guaranteed crit.\n",
            "Warning: guaranteed dh should only be used for DIRECT damage. If you are seeing this msg, make sure you know what you are doing with guaranteed dh.\n",
            "Warning: guaranteed crit should only be used for DIRECT damage. If you are seeing this msg, make sure you know what you are doing with guaranteed crit.\n",
            "Warning: guaranteed dh should only be used for DIRECT damage. If you are seeing this msg, make sure you know what you are doing with guaranteed dh.\n",
            "Warning: guaranteed crit should only be used for DIRECT damage. If you are seeing this msg, make sure you know what you are doing with guaranteed crit.\n",
            "Warning: guaranteed dh should only be used for DIRECT damage. If you are seeing this msg, make sure you know what you are doing with guaranteed dh.\n",
            "Warning: guaranteed crit should only be used for DIRECT damage. If you are seeing this msg, make sure you know what you are doing with guaranteed crit.\n",
            "Warning: guaranteed dh should only be used for DIRECT damage. If you are seeing this msg, make sure you know what you are doing with guaranteed dh.\n",
            "Warning: guaranteed crit should only be used for DIRECT damage. If you are seeing this msg, make sure you know what you are doing with guaranteed crit.\n",
            "Warning: guaranteed dh should only be used for DIRECT damage. If you are seeing this msg, make sure you know what you are doing with guaranteed dh.\n",
            "Warning: guaranteed crit should only be used for DIRECT damage. If you are seeing this msg, make sure you know what you are doing with guaranteed crit.\n",
            "Warning: guaranteed dh should only be used for DIRECT damage. If you are seeing this msg, make sure you know what you are doing with guaranteed dh.\n",
            "Warning: guaranteed crit should only be used for DIRECT damage. If you are seeing this msg, make sure you know what you are doing with guaranteed crit.\n",
            "Warning: guaranteed dh should only be used for DIRECT damage. If you are seeing this msg, make sure you know what you are doing with guaranteed dh.\n",
            "===Doing test: WAR_crit===\n",
            "Warning: invoking comparison between skills:Embolden and ChainStrategem. This is likely due to skills triggering at the same time. Comparisons are random.\n",
            "Warning: invoking comparison between skills:Embolden and ChainStrategem. This is likely due to skills triggering at the same time. Comparisons are random.\n",
            "Time taken: 0.44639134407043457\n",
            "expected vs actual dps: 14390, 14389.071948092558\n",
            "Test result: PASS\n"
          ]
        },
        {
          "output_type": "display_data",
          "data": {
            "text/plain": [
              "<Figure size 432x288 with 1 Axes>"
            ],
            "image/png": "[encoded data removed]"
          },
          "metadata": {
            "needs_background": "light"
          }
        },
        {
          "output_type": "display_data",
          "data": {
            "text/plain": [
              "<Figure size 432x288 with 1 Axes>"
            ],
            "image/png": "[encoded data removed]"
          },
          "metadata": {
            "needs_background": "light"
          }
        }
      ]
    },
    {
      "cell_type": "code",
      "source": [
        "sim = Simulator(stats, rb.build(), debug=False, num_samples=100000)\n",
        "total_damage, dps_tracker = sim.simulate()"
      ],
      "metadata": {
        "colab": {
          "base_uri": "https://localhost:8080/"
        },
        "id": "j2IBEfUW2dWU",
        "outputId": "88a904c5-b51f-4e27-f161-9a4d74c45054"
      },
      "execution_count": 101,
      "outputs": [
        {
          "output_type": "stream",
          "name": "stdout",
          "text": [
            "Warning: invoking comparison between skills:Embolden and ChainStrategem. This is likely due to skills triggering at the same time. Comparisons are random.\n",
            "Warning: invoking comparison between skills:Embolden and ChainStrategem. This is likely due to skills triggering at the same time. Comparisons are random.\n"
          ]
        }
      ]
    },
    {
      "cell_type": "code",
      "source": [
        "#@title SAM sim\n",
        "test_name = 'SAM'\n",
        "if test_name in TEST_KEYS or 'all' in TEST_KEYS:\n",
        "  stats = Stats(wd=126, weapon_delay=3.36, main_stat=2907, det_stat=1883, crit_stat=2255, dh_stat=868, speed_stat=400, tenacity=631, job_class = 'SAM')\n",
        "  gcd_time = 2.48\n",
        "\n",
        "  rb= RotationBuilder(stats, skill_library)\n",
        "  rb.add_skill(0*gcd_time, 'Hakaze')\n",
        "  rb.add_skill(1*gcd_time, 'Shifu')\n",
        "  fight_time = 2*gcd_time\n",
        "\n",
        "  sim = Simulator(stats, rb.build(), debug=False, num_samples=100000)\n",
        "  do_test(test_name, sim, fight_time, 3076)"
      ],
      "metadata": {
        "id": "0EKfaB-c596R",
        "cellView": "form",
        "colab": {
          "base_uri": "https://localhost:8080/",
          "height": 614
        },
        "outputId": "1056051d-c8c0-492f-f4d2-3a8a1765a117"
      },
      "execution_count": 102,
      "outputs": [
        {
          "output_type": "stream",
          "name": "stdout",
          "text": [
            "===Doing test: SAM===\n",
            "Time taken: 0.026421785354614258\n",
            "expected vs actual dps: 3076, 3076.2721471774194\n",
            "Test result: PASS\n"
          ]
        },
        {
          "output_type": "display_data",
          "data": {
            "text/plain": [
              "<Figure size 432x288 with 1 Axes>"
            ],
            "image/png": "[encoded data removed]"
          },
          "metadata": {
            "needs_background": "light"
          }
        },
        {
          "output_type": "display_data",
          "data": {
            "text/plain": [
              "<Figure size 432x288 with 1 Axes>"
            ],
            "image/png": "[encoded data removed]"
          },
          "metadata": {
            "needs_background": "light"
          }
        }
      ]
    },
    {
      "cell_type": "code",
      "source": [
        "start_time = time.time()\n",
        "\n",
        "sim = Simulator(stats, rb.build(), debug=False)\n",
        "total_damage, dps_tracker = sim.simulate()\n",
        "end_time = time.time()\n",
        "\n",
        "display_results(total_damage, fight_time)\n",
        "print('Time taken: ' + str(end_time-start_time))"
      ],
      "metadata": {
        "id": "qGGz1d4h3hMk",
        "colab": {
          "base_uri": "https://localhost:8080/",
          "height": 686
        },
        "outputId": "dd936320-19a9-4281-e228-b617106590db"
      },
      "execution_count": 103,
      "outputs": [
        {
          "output_type": "stream",
          "name": "stdout",
          "text": [
            "Average damage: 15251.688814\n",
            "Average dps: 3074.9372608870963\n",
            "dps percentile 25: 2609.4758064516127\n",
            "dps percentile 50: 2928.6290322580644\n",
            "dps percentile 75: 3449.3951612903224\n",
            "dps percentile 95: 4139.5161290322585\n",
            "dps percentile 99: 4605.040322580645\n",
            "Time taken: 0.11692380905151367\n"
          ]
        },
        {
          "output_type": "display_data",
          "data": {
            "text/plain": [
              "<Figure size 432x288 with 1 Axes>"
            ],
            "image/png": "[encoded data removed]"
          },
          "metadata": {
            "needs_background": "light"
          }
        },
        {
          "output_type": "display_data",
          "data": {
            "text/plain": [
              "<Figure size 432x288 with 1 Axes>"
            ],
            "image/png": "[encoded data removed]"
          },
          "metadata": {
            "needs_background": "light"
          }
        }
      ]
    },
    {
      "cell_type": "code",
      "source": [
        "# # #@title normality test stuff. feel free to ignore\n",
        "\n",
        "# import scipy.stats\n",
        "# import statsmodels.api as sm\n",
        "\n",
        "# mean = np.mean(total_damage)\n",
        "# std = np.std(total_damage)\n",
        "# gauss_samp = np.random.randn(1000000,)*std+mean\n",
        "\n",
        "# print(scipy.stats.normaltest(total_damage))\n",
        "# print(scipy.stats.normaltest(gauss_samp))\n",
        "\n",
        "# def get_pdf(vals):  \n",
        "#   count, bins_count = np.histogram(vals, bins=np.arange(np.min(total_damage),np.max(total_damage),(np.max(total_damage)-np.min(total_damage))/1000))\n",
        "#   pdf = count / sum(count)\n",
        "#   return bins_count, pdf\n",
        "\n",
        "# bins_count, pdf = get_pdf(total_damage)\n",
        "# bins_count_gauss, pdf_gauss = get_pdf(gauss_samp)\n",
        "\n",
        "# plt.figure()\n",
        "# plt.plot(bins_count[1:], pdf, label=\"PDF\")\n",
        "# plt.plot(bins_count_gauss[1:], pdf_gauss, label=\"PDF\", color='g')\n",
        "# plt.show()\n",
        "\n",
        "# # sanity check\n",
        "# print('total damage mean/std: {mean}/{std}'.format(mean=np.mean(total_damage), std=np.std(total_damage)))\n",
        "# print('total damage mean/std: {mean}/{std}'.format(mean=np.mean(gauss_samp), std=np.std(gauss_samp)))\n",
        "\n",
        "# plt.figure()\n",
        "# sm.qqplot((total_damage-np.mean(total_damage))/np.std(total_damage), line='45')"
      ],
      "metadata": {
        "id": "KJuB7dy5DyEi"
      },
      "execution_count": 104,
      "outputs": []
    }
  ]
}