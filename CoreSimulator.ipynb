{
  "nbformat": 4,
  "nbformat_minor": 0,
  "metadata": {
    "colab": {
      "provenance": [],
      "authorship_tag": "ABX9TyP5jzlFgCz5qapWhx6OW/hX",
      "include_colab_link": true
    },
    "kernelspec": {
      "name": "python3",
      "display_name": "Python 3"
    },
    "language_info": {
      "name": "python"
    }
  },
  "cells": [
    {
      "cell_type": "markdown",
      "metadata": {
        "id": "view-in-github",
        "colab_type": "text"
      },
      "source": [
        "<a href=\"https://colab.research.google.com/github/Amarantine-xiv/Another-FF14-Combat-Sim/blob/main/CoreSimulator.ipynb\" target=\"_parent\"><img src=\"https://colab.research.google.com/assets/colab-badge.svg\" alt=\"Open In Colab\"/></a>"
      ]
    },
    {
      "cell_type": "markdown",
      "source": [
        "Copyright 2023 A. Falena\n",
        "\n",
        "Licensed under the Apache License, Version 2.0 (the \"License\");\n",
        "you may not use this file except in compliance with the License.\n",
        "You may obtain a copy of the License at\n",
        "\n",
        "    https://www.apache.org/licenses/LICENSE-2.0\n",
        "\n",
        "Unless required by applicable law or agreed to in writing, software\n",
        "distributed under the License is distributed on an \"AS IS\" BASIS,\n",
        "WITHOUT WARRANTIES OR CONDITIONS OF ANY KIND, either express or implied.\n",
        "See the License for the specific language governing permissions and\n",
        "limitations under the License."
      ],
      "metadata": {
        "id": "d96lbpQzAb-8"
      }
    },
    {
      "cell_type": "code",
      "source": [
        "VERSION=0.01"
      ],
      "metadata": {
        "id": "qIPBusLz9x-y"
      },
      "execution_count": 2,
      "outputs": []
    },
    {
      "cell_type": "code",
      "source": [
        "#@title Imports\n",
        "\n",
        "import numpy as np\n",
        "import matplotlib.pyplot as plt\n",
        "import time\n",
        "import copy\n",
        "from dataclasses import dataclass\n",
        "import heapq\n",
        "from enum import Enum"
      ],
      "metadata": {
        "id": "hkVvtYjeAjnF"
      },
      "execution_count": 3,
      "outputs": []
    },
    {
      "cell_type": "code",
      "source": [
        "class RotationBuilderUtil:\n",
        "  \"\"\" A utility class used to turn 1) a series of button (skills) pressed and optionally the specific time they were pressed, and 2) proc application times into a series of damage instances and applicable buffs/debuffs.\"\"\"\n",
        "  def __init__(self, stats):\n",
        "    self._stats = stats\n",
        "    self._q = []\n",
        "    self._q_timed = []\n",
        "\n",
        "  def add_skill(self, skill_name, t=None):\n",
        "    \"\"\"Adds a skill to be used. All skills are considered to be used sequential at the first available opportunity, unless a time t is specified.\"\"\"\n",
        "    if t is None:\n",
        "      heapq.heappush(self._q, skill_name)\n",
        "    else:\n",
        "      heapq.heappush(self._q_timed, skill_name)"
      ],
      "metadata": {
        "id": "hJ-TzG80A96n"
      },
      "execution_count": 11,
      "outputs": []
    },
    {
      "cell_type": "code",
      "source": [
        "#@title Test utils\n",
        "\n",
        "class AllTestResults:\n",
        "  def __init__(self):\n",
        "    self.passing = []\n",
        "    self.failing = []\n",
        "\n",
        "  def _add_pass(self, test_name):\n",
        "    self.passing.append(test_name)\n",
        "\n",
        "  def _add_failure(self, test_name):\n",
        "    self.failing.append(test_name)\n",
        "\n",
        "  def update_test_results(self, test_passed, test_name):\n",
        "    if test_passed:\n",
        "      self._add_pass(test_name)\n",
        "    else:\n",
        "      self._add_failure(test_name)\n",
        "\n",
        "  def print_result(self):\n",
        "    print('{passing}/{total} tests passed.'.format(passing=len(self.passing), total=len(self.passing)+len(self.failing)))\n",
        "    if len(self.failing) > 0:\n",
        "      print('Failing tests: ')\n",
        "      for test_name in self.failing:\n",
        "        print(test_name)"
      ],
      "metadata": {
        "id": "89o_e2o-GPM7"
      },
      "execution_count": 15,
      "outputs": []
    }
  ]
}